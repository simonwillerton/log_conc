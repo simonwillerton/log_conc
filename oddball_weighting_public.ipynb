{
 "cells": [
  {
   "cell_type": "markdown",
   "metadata": {},
   "source": [
    "# On the magnitude of odd balls via reverse Bessel polynomials and Hankel determinants\n",
    "\n",
    "## by Simon Willerton"
   ]
  },
  {
   "cell_type": "markdown",
   "metadata": {},
   "source": [
    "This is a notebook to accompany the paper of the same name.  It will numerically verify some of the results in the paper and allow the reader to experiment on their own."
   ]
  },
  {
   "cell_type": "markdown",
   "metadata": {},
   "source": [
    "First just define a function that will be useful for making tables."
   ]
  },
  {
   "cell_type": "code",
   "execution_count": 1,
   "metadata": {
    "collapsed": false
   },
   "outputs": [],
   "source": [
    "def make_table(f, header, num_rows=8, start=0):\n",
    "    if type(header) == str:\n",
    "        header = (\"$i$\", header)\n",
    "    table_rows = []\n",
    "    for i in range(start, num_rows):\n",
    "        table_rows.append([i, f(i)])\n",
    "    show(table(table_rows,\n",
    "           header_row=header))"
   ]
  },
  {
   "cell_type": "markdown",
   "metadata": {},
   "source": [
    "# Section 1.2.  The main results"
   ]
  },
  {
   "cell_type": "markdown",
   "metadata": {},
   "source": [
    "Begin by defining the reverse Bessel polynomial $\\chi_i(R)$ via the recursion\n",
    "$$\\chi_i(R) = R^2\\chi{i-2}(R) + (2i-3)\\chi_{i-1}$$\n",
    "with the initial conditions\n",
    "$$\\chi_0(R)=1,\\quad \\chi_1(R)=R.$$"
   ]
  },
  {
   "cell_type": "code",
   "execution_count": 2,
   "metadata": {
    "collapsed": false
   },
   "outputs": [
    {
     "data": {
      "text/html": [
       "<div class=\"notruncate\">\n",
       "<table  class=\"table_form\">\n",
       "<tbody>\n",
       "<tr>\n",
       "<th><script type=\"math/tex\">i</script></th>\n",
       "<th>Reverse Bessel polynomial <script type=\"math/tex\">\\chi_{i}(R)</script></th>\n",
       "</tr>\n",
       "<tr class =\"row-a\">\n",
       "<td><script type=\"math/tex\">0</script></td>\n",
       "<td><script type=\"math/tex\">1</script></td>\n",
       "</tr>\n",
       "<tr class =\"row-b\">\n",
       "<td><script type=\"math/tex\">1</script></td>\n",
       "<td><script type=\"math/tex\">R</script></td>\n",
       "</tr>\n",
       "<tr class =\"row-a\">\n",
       "<td><script type=\"math/tex\">2</script></td>\n",
       "<td><script type=\"math/tex\">R^{2} + R</script></td>\n",
       "</tr>\n",
       "<tr class =\"row-b\">\n",
       "<td><script type=\"math/tex\">3</script></td>\n",
       "<td><script type=\"math/tex\">R^{3} + 3R^{2} + 3R</script></td>\n",
       "</tr>\n",
       "<tr class =\"row-a\">\n",
       "<td><script type=\"math/tex\">4</script></td>\n",
       "<td><script type=\"math/tex\">R^{4} + 6R^{3} + 15R^{2} + 15R</script></td>\n",
       "</tr>\n",
       "<tr class =\"row-b\">\n",
       "<td><script type=\"math/tex\">5</script></td>\n",
       "<td><script type=\"math/tex\">R^{5} + 10R^{4} + 45R^{3} + 105R^{2} + 105R</script></td>\n",
       "</tr>\n",
       "<tr class =\"row-a\">\n",
       "<td><script type=\"math/tex\">6</script></td>\n",
       "<td><script type=\"math/tex\">R^{6} + 15R^{5} + 105R^{4} + 420R^{3} + 945R^{2} + 945R</script></td>\n",
       "</tr>\n",
       "<tr class =\"row-b\">\n",
       "<td><script type=\"math/tex\">7</script></td>\n",
       "<td><script type=\"math/tex\">R^{7} + 21R^{6} + 210R^{5} + 1260R^{4} + 4725R^{3} + 10395R^{2} + 10395R</script></td>\n",
       "</tr>\n",
       "</tbody>\n",
       "</table>\n",
       "</div>"
      ],
      "text/plain": [
       "  $i$   Reverse Bessel polynomial $\\chi_{i}(R)$\n",
       "+-----+--------------------------------------------------------------------+\n",
       "  0     1\n",
       "  1     R\n",
       "  2     R^2 + R\n",
       "  3     R^3 + 3*R^2 + 3*R\n",
       "  4     R^4 + 6*R^3 + 15*R^2 + 15*R\n",
       "  5     R^5 + 10*R^4 + 45*R^3 + 105*R^2 + 105*R\n",
       "  6     R^6 + 15*R^5 + 105*R^4 + 420*R^3 + 945*R^2 + 945*R\n",
       "  7     R^7 + 21*R^6 + 210*R^5 + 1260*R^4 + 4725*R^3 + 10395*R^2 + 10395*R"
      ]
     },
     "metadata": {},
     "output_type": "display_data"
    }
   ],
   "source": [
    "S.<R> = PolynomialRing(ZZ)\n",
    "\n",
    "# Set the initial conditions of the recursion.\n",
    "memo_chi = {0: 1, 1: R}\n",
    "\n",
    "def chi(i):\n",
    "    if i in memo_chi:\n",
    "        return memo_chi[i]\n",
    "    memo_chi[i] = R^2*chi(i-2) + (2*i-3)*chi(i-1)\n",
    "    return memo_chi[i]\n",
    "\n",
    "make_table(chi, \"Reverse Bessel polynomial $\\chi_{i}(R)$\")"
   ]
  },
  {
   "cell_type": "markdown",
   "metadata": {},
   "source": [
    "Now define the Hankel determinants, calculate them and verify that their ratios give the claimed expressions for the magnitude."
   ]
  },
  {
   "cell_type": "code",
   "execution_count": 3,
   "metadata": {
    "collapsed": false
   },
   "outputs": [
    {
     "data": {
      "text/html": [
       "<div class=\"notruncate\">\n",
       "<table  class=\"table_form\">\n",
       "<tbody>\n",
       "<tr>\n",
       "<th><script type=\"math/tex\">p</script></th>\n",
       "<th><script type=\"math/tex\">\\det\\left[\\chi_{i+j}(R)\\right]_{i,j=0}^p</script></th>\n",
       "</tr>\n",
       "<tr class =\"row-a\">\n",
       "<td><script type=\"math/tex\">0</script></td>\n",
       "<td><script type=\"math/tex\">1</script></td>\n",
       "</tr>\n",
       "<tr class =\"row-b\">\n",
       "<td><script type=\"math/tex\">1</script></td>\n",
       "<td><script type=\"math/tex\">R</script></td>\n",
       "</tr>\n",
       "<tr class =\"row-a\">\n",
       "<td><script type=\"math/tex\">2</script></td>\n",
       "<td><script type=\"math/tex\">2 \\cdot (R + 3) \\cdot R^{2}</script></td>\n",
       "</tr>\n",
       "<tr class =\"row-b\">\n",
       "<td><script type=\"math/tex\">3</script></td>\n",
       "<td><script type=\"math/tex\">3 \\cdot 2^{2} \\cdot R^{3} \\cdot (R^{3} + 12R^{2} + 48R + 60)</script></td>\n",
       "</tr>\n",
       "<tr class =\"row-a\">\n",
       "<td><script type=\"math/tex\">4</script></td>\n",
       "<td><script type=\"math/tex\">3^{2} \\cdot 2^{5} \\cdot R^{4} \\cdot (R^{6} + 30R^{5} + 375R^{4} + 2475R^{3} + 9000R^{2} + 16920R + 12600)</script></td>\n",
       "</tr>\n",
       "</tbody>\n",
       "</table>\n",
       "</div>"
      ],
      "text/plain": [
       "  $p$   $\\det\\left[\\chi_{i+j}(R)\\right]_{i,j=0}^p$\n",
       "+-----+------------------------------------------------------------------------------------+\n",
       "  0     1\n",
       "  1     R\n",
       "  2     2 * (R + 3) * R^2\n",
       "  3     3 * 2^2 * R^3 * (R^3 + 12*R^2 + 48*R + 60)\n",
       "  4     3^2 * 2^5 * R^4 * (R^6 + 30*R^5 + 375*R^4 + 2475*R^3 + 9000*R^2 + 16920*R + 12600)"
      ]
     },
     "metadata": {},
     "output_type": "display_data"
    },
    {
     "data": {
      "text/html": [
       "<div class=\"notruncate\">\n",
       "<table  class=\"table_form\">\n",
       "<tbody>\n",
       "<tr>\n",
       "<th><script type=\"math/tex\">p</script></th>\n",
       "<th><script type=\"math/tex\">\\det\\left[\\chi_{i+j+2}(R)\\right]_{i,j=0}^p</script></th>\n",
       "</tr>\n",
       "<tr class =\"row-a\">\n",
       "<td><script type=\"math/tex\">0</script></td>\n",
       "<td><script type=\"math/tex\">R \\cdot (R + 1)</script></td>\n",
       "</tr>\n",
       "<tr class =\"row-b\">\n",
       "<td><script type=\"math/tex\">1</script></td>\n",
       "<td><script type=\"math/tex\">R^{2} \\cdot (R^{3} + 6R^{2} + 12R + 6)</script></td>\n",
       "</tr>\n",
       "<tr class =\"row-a\">\n",
       "<td><script type=\"math/tex\">2</script></td>\n",
       "<td><script type=\"math/tex\">2 \\cdot R^{3} \\cdot (R^{6} + 18R^{5} + 135R^{4} + 525R^{3} + 1080R^{2} + 1080R + 360)</script></td>\n",
       "</tr>\n",
       "<tr class =\"row-b\">\n",
       "<td><script type=\"math/tex\">3</script></td>\n",
       "<td><script type=\"math/tex\">3 \\cdot 2^{2} \\cdot R^{4} \\cdot (R^{10} + 40R^{9} + 720R^{8} + 7620R^{7} + 52080R^{6} + 238140R^{5} + 730800R^{4} + 1467900R^{3} + 1814400R^{2} + 1209600R + 302400)</script></td>\n",
       "</tr>\n",
       "</tbody>\n",
       "</table>\n",
       "</div>"
      ],
      "text/plain": [
       "  $p$   $\\det\\left[\\chi_{i+j+2}(R)\\right]_{i,j=0}^p$\n",
       "+-----+---------------------------------------------------------------------------------------------------------------------------------------------+\n",
       "  0     R * (R + 1)\n",
       "  1     R^2 * (R^3 + 6*R^2 + 12*R + 6)\n",
       "  2     2 * R^3 * (R^6 + 18*R^5 + 135*R^4 + 525*R^3 + 1080*R^2 + 1080*R + 360)\n",
       "  3     3 * 2^2 * R^4 * (R^10 + 40*R^9 + 720*R^8 + 7620*R^7 + 52080*R^6 + 238140*R^5 + 730800*R^4 + 1467900*R^3 + 1814400*R^2 + 1209600*R + 302400)"
      ]
     },
     "metadata": {},
     "output_type": "display_data"
    },
    {
     "data": {
      "text/html": [
       "<div class=\"notruncate\">\n",
       "<table  class=\"table_form\">\n",
       "<tbody>\n",
       "<tr>\n",
       "<th><script type=\"math/tex\">p</script></th>\n",
       "<th>magnitude <script type=\"math/tex\">\\left\\vert B^{2p+1}_R\\right\\vert</script></th>\n",
       "</tr>\n",
       "<tr class =\"row-a\">\n",
       "<td><script type=\"math/tex\">0</script></td>\n",
       "<td><script type=\"math/tex\">R + 1</script></td>\n",
       "</tr>\n",
       "<tr class =\"row-b\">\n",
       "<td><script type=\"math/tex\">1</script></td>\n",
       "<td><script type=\"math/tex\">\\frac{1}{6} \\, R^{3} + R^{2} + 2 \\, R + 1</script></td>\n",
       "</tr>\n",
       "<tr class =\"row-a\">\n",
       "<td><script type=\"math/tex\">2</script></td>\n",
       "<td><script type=\"math/tex\">\\frac{R^{6} + 18 \\, R^{5} + 135 \\, R^{4} + 525 \\, R^{3} + 1080 \\, R^{2} + 1080 \\, R + 360}{120 \\, {\\left(R + 3\\right)}}</script></td>\n",
       "</tr>\n",
       "<tr class =\"row-b\">\n",
       "<td><script type=\"math/tex\">3</script></td>\n",
       "<td><script type=\"math/tex\">\\frac{R^{10} + 40 \\, R^{9} + 720 \\, R^{8} + 7620 \\, R^{7} + 52080 \\, R^{6} + 238140 \\, R^{5} + 730800 \\, R^{4} + 1467900 \\, R^{3} + 1814400 \\, R^{2} + 1209600 \\, R + 302400}{5040 \\, {\\left(R^{3} + 12 \\, R^{2} + 48 \\, R + 60\\right)}}</script></td>\n",
       "</tr>\n",
       "</tbody>\n",
       "</table>\n",
       "</div>"
      ],
      "text/plain": [
       "  $p$   magnitude $\\left\\vert B^{2p+1}_R\\right\\vert$\n",
       "+-----+---------------------------------------------------------------------------------------------------------------------------------------------------------------+\n",
       "  0     R + 1\n",
       "  1     1/6*R^3 + R^2 + 2*R + 1\n",
       "  2     1/120*(R^6 + 18*R^5 + 135*R^4 + 525*R^3 + 1080*R^2 + 1080*R + 360)/(R + 3)\n",
       "  3     1/5040*(R^10 + 40*R^9 + 720*R^8 + 7620*R^7 + 52080*R^6 + 238140*R^5 + 730800*R^4 + 1467900*R^3 + 1814400*R^2 + 1209600*R + 302400)/(R^3 + 12*R^2 + 48*R + 60)"
      ]
     },
     "metadata": {},
     "output_type": "display_data"
    }
   ],
   "source": [
    "def hankel_chi(p, offset=0):\n",
    "    return S(matrix([[chi(i+j+offset) \n",
    "                      for i in range(p+1)] \n",
    "                     for j in range(p+1)]).det())\n",
    "\n",
    "\n",
    "make_table(lambda i: hankel_chi(i).factor(), \n",
    "           (\"$p$\", r\"$\\det\\left[\\chi_{i+j}(R)\\right]_{i,j=0}^p$\"), \n",
    "           num_rows=5)\n",
    "make_table(lambda i: hankel_chi(i, offset=2).factor(), \n",
    "           (\"$p$\", r\"$\\det\\left[\\chi_{i+j+2}(R)\\right]_{i,j=0}^p$\"), \n",
    "           num_rows=4)\n",
    "make_table(lambda i: 1/factorial(2*i+1)*\n",
    "           SR(hankel_chi(i, offset=2)/R/hankel_chi(i)), \n",
    "           (\"$p$\", r\"magnitude $\\left\\vert B^{2p+1}_R\\right\\vert$\"), \n",
    "           num_rows=4)\n",
    "\n"
   ]
  },
  {
   "cell_type": "markdown",
   "metadata": {},
   "source": [
    "We can calculate the polynomial part of the magnitude as $R\\to \\infty$ by just calculating the quotient of the numerator and denominator."
   ]
  },
  {
   "cell_type": "code",
   "execution_count": 4,
   "metadata": {
    "collapsed": false
   },
   "outputs": [
    {
     "data": {
      "text/html": [
       "<div class=\"notruncate\">\n",
       "<table  class=\"table_form\">\n",
       "<tbody>\n",
       "<tr>\n",
       "<th><script type=\"math/tex\">p</script></th>\n",
       "<th>magnitude <script type=\"math/tex\">|B^{2p+1}_R|</script> as <script type=\"math/tex\">R\\to \\infty</script></th>\n",
       "</tr>\n",
       "<tr class =\"row-a\">\n",
       "<td><script type=\"math/tex\">0</script></td>\n",
       "<td><script type=\"math/tex\">\\frac{1}{1}( R + 1 )+O(R^{-1})</script></td>\n",
       "</tr>\n",
       "<tr class =\"row-b\">\n",
       "<td><script type=\"math/tex\">1</script></td>\n",
       "<td><script type=\"math/tex\">\\frac{1}{6}( R^{3} + 6R^{2} + 12R + 6 )+O(R^{-1})</script></td>\n",
       "</tr>\n",
       "<tr class =\"row-a\">\n",
       "<td><script type=\"math/tex\">2</script></td>\n",
       "<td><script type=\"math/tex\">\\frac{1}{120}( R^{5} + 15R^{4} + 90R^{3} + 255R^{2} + 315R + 135 )+O(R^{-1})</script></td>\n",
       "</tr>\n",
       "<tr class =\"row-b\">\n",
       "<td><script type=\"math/tex\">3</script></td>\n",
       "<td><script type=\"math/tex\">\\frac{1}{5040}( R^{7} + 28R^{6} + 336R^{5} + 2184R^{4} + 8064R^{3} + 16380R^{2} + 16128R + 4284 )+O(R^{-1})</script></td>\n",
       "</tr>\n",
       "<tr class =\"row-a\">\n",
       "<td><script type=\"math/tex\">4</script></td>\n",
       "<td><script type=\"math/tex\">\\frac{1}{362880}( R^{9} + 45R^{8} + 900R^{7} + 10350R^{6} + 74250R^{5} + 338715R^{4} + 962550R^{3} + 1589625R^{2} + 1326375R + 415125 )+O(R^{-1})</script></td>\n",
       "</tr>\n",
       "</tbody>\n",
       "</table>\n",
       "</div>"
      ],
      "text/plain": [
       "  $p$   magnitude $|B^{2p+1}_R|$ as $R\\to \\infty$\n",
       "+-----+-----------------------------------------------------------------------------------------------------------------------------------------------------+\n",
       "  0     $\\frac{1}{1}( R + 1 )+O(R^{-1})$\n",
       "  1     $\\frac{1}{6}( R^{3} + 6R^{2} + 12R + 6 )+O(R^{-1})$\n",
       "  2     $\\frac{1}{120}( R^{5} + 15R^{4} + 90R^{3} + 255R^{2} + 315R + 135 )+O(R^{-1})$\n",
       "  3     $\\frac{1}{5040}( R^{7} + 28R^{6} + 336R^{5} + 2184R^{4} + 8064R^{3} + 16380R^{2} + 16128R + 4284 )+O(R^{-1})$\n",
       "  4     $\\frac{1}{362880}( R^{9} + 45R^{8} + 900R^{7} + 10350R^{6} + 74250R^{5} + 338715R^{4} + 962550R^{3} + 1589625R^{2} + 1326375R + 415125 )+O(R^{-1})$"
      ]
     },
     "metadata": {},
     "output_type": "display_data"
    }
   ],
   "source": [
    "make_table(lambda i: (r\"$\\frac{1}{\"+str(factorial(2*i+1))+\"}(\"+\n",
    "           latex(hankel_chi(i, offset=2).quo_rem(R*hankel_chi(i))[0])+\")+O(R^{-1})$\"), \n",
    "           (\"$p$\", \"magnitude $|B^{2p+1}_R|$ as $R\\\\to \\infty$\"), \n",
    "           num_rows=5)"
   ]
  },
  {
   "cell_type": "markdown",
   "metadata": {},
   "source": [
    "We can use these these to verify the formulas given in the paper for the leading order terms of the numerator, denominator and asymptotic expansion."
   ]
  },
  {
   "cell_type": "code",
   "execution_count": 5,
   "metadata": {
    "collapsed": false
   },
   "outputs": [
    {
     "data": {
      "text/html": [
       "<div class=\"notruncate\">\n",
       "<table  class=\"table_form\">\n",
       "<tbody>\n",
       "<tr>\n",
       "<th><script type=\"math/tex\">p</script></th>\n",
       "<th>leading terms of numerator of magnitude</th>\n",
       "</tr>\n",
       "<tr class =\"row-a\">\n",
       "<td><script type=\"math/tex\">0</script></td>\n",
       "<td><script type=\"math/tex\">R + 1</script></td>\n",
       "</tr>\n",
       "<tr class =\"row-b\">\n",
       "<td><script type=\"math/tex\">1</script></td>\n",
       "<td><script type=\"math/tex\">R^{3} + 6 R^{2} + 12 R</script></td>\n",
       "</tr>\n",
       "<tr class =\"row-a\">\n",
       "<td><script type=\"math/tex\">2</script></td>\n",
       "<td><script type=\"math/tex\">R^{6} + 18 R^{5} + 135 R^{4}</script></td>\n",
       "</tr>\n",
       "<tr class =\"row-b\">\n",
       "<td><script type=\"math/tex\">3</script></td>\n",
       "<td><script type=\"math/tex\">R^{10} + 40 R^{9} + 720 R^{8}</script></td>\n",
       "</tr>\n",
       "<tr class =\"row-a\">\n",
       "<td><script type=\"math/tex\">4</script></td>\n",
       "<td><script type=\"math/tex\">R^{15} + 75 R^{14} + 2625 R^{13}</script></td>\n",
       "</tr>\n",
       "</tbody>\n",
       "</table>\n",
       "</div>"
      ],
      "text/plain": [
       "  $p$   leading terms of numerator of magnitude\n",
       "+-----+-----------------------------------------+\n",
       "  0     R + 1\n",
       "  1     R^3 + 6*R^2 + 12*R\n",
       "  2     R^6 + 18*R^5 + 135*R^4\n",
       "  3     R^10 + 40*R^9 + 720*R^8\n",
       "  4     R^15 + 75*R^14 + 2625*R^13"
      ]
     },
     "metadata": {},
     "output_type": "display_data"
    },
    {
     "data": {
      "text/html": [
       "<div class=\"notruncate\">\n",
       "<table  class=\"table_form\">\n",
       "<tbody>\n",
       "<tr>\n",
       "<th><script type=\"math/tex\">p</script></th>\n",
       "<th>leading terms of denominator of magnitude</th>\n",
       "</tr>\n",
       "<tr class =\"row-a\">\n",
       "<td><script type=\"math/tex\">0</script></td>\n",
       "<td><script type=\"math/tex\">1</script></td>\n",
       "</tr>\n",
       "<tr class =\"row-b\">\n",
       "<td><script type=\"math/tex\">1</script></td>\n",
       "<td><script type=\"math/tex\">1</script></td>\n",
       "</tr>\n",
       "<tr class =\"row-a\">\n",
       "<td><script type=\"math/tex\">2</script></td>\n",
       "<td><script type=\"math/tex\">R + 3</script></td>\n",
       "</tr>\n",
       "<tr class =\"row-b\">\n",
       "<td><script type=\"math/tex\">3</script></td>\n",
       "<td><script type=\"math/tex\">R^{3} + 12 R^{2} + 48 R</script></td>\n",
       "</tr>\n",
       "<tr class =\"row-a\">\n",
       "<td><script type=\"math/tex\">4</script></td>\n",
       "<td><script type=\"math/tex\">R^{6} + 30 R^{5} + 375 R^{4}</script></td>\n",
       "</tr>\n",
       "</tbody>\n",
       "</table>\n",
       "</div>"
      ],
      "text/plain": [
       "  $p$   leading terms of denominator of magnitude\n",
       "+-----+-------------------------------------------+\n",
       "  0     1\n",
       "  1     1\n",
       "  2     R + 3\n",
       "  3     R^3 + 12*R^2 + 48*R\n",
       "  4     R^6 + 30*R^5 + 375*R^4"
      ]
     },
     "metadata": {},
     "output_type": "display_data"
    },
    {
     "data": {
      "text/html": [
       "<div class=\"notruncate\">\n",
       "<table  class=\"table_form\">\n",
       "<tbody>\n",
       "<tr>\n",
       "<th><script type=\"math/tex\">p</script></th>\n",
       "<th>leading terms of the asymptotic expansion of magnitude</th>\n",
       "</tr>\n",
       "<tr class =\"row-a\">\n",
       "<td><script type=\"math/tex\">0</script></td>\n",
       "<td><script type=\"math/tex\">\\frac{1}{1}\\left( R + 1 +O(R^{-2})\\right)</script><script type=\"math/tex\"></script></td>\n",
       "</tr>\n",
       "<tr class =\"row-b\">\n",
       "<td><script type=\"math/tex\">1</script></td>\n",
       "<td><script type=\"math/tex\">\\frac{1}{6}\\left( R^{3} + 6 R^{2} + 12 R +O(R^{0})\\right)</script><script type=\"math/tex\"></script></td>\n",
       "</tr>\n",
       "<tr class =\"row-a\">\n",
       "<td><script type=\"math/tex\">2</script></td>\n",
       "<td><script type=\"math/tex\">\\frac{1}{120}\\left( R^{5} + 15 R^{4} + 90 R^{3} +O(R^{2})\\right)</script><script type=\"math/tex\"></script></td>\n",
       "</tr>\n",
       "<tr class =\"row-b\">\n",
       "<td><script type=\"math/tex\">3</script></td>\n",
       "<td><script type=\"math/tex\">\\frac{1}{5040}\\left( R^{7} + 28 R^{6} + 336 R^{5} +O(R^{4})\\right)</script><script type=\"math/tex\"></script></td>\n",
       "</tr>\n",
       "<tr class =\"row-a\">\n",
       "<td><script type=\"math/tex\">4</script></td>\n",
       "<td><script type=\"math/tex\">\\frac{1}{362880}\\left( R^{9} + 45 R^{8} + 900 R^{7} +O(R^{6})\\right)</script><script type=\"math/tex\"></script></td>\n",
       "</tr>\n",
       "</tbody>\n",
       "</table>\n",
       "</div>"
      ],
      "text/plain": [
       "  $p$   leading terms of the asymptotic expansion of magnitude\n",
       "+-----+-----------------------------------------------------------------------+\n",
       "  0     $\\frac{1}{1}\\left( R + 1 +O(R^{-2})\\right)\n",
       "  1     $\\frac{1}{6}\\left( R^{3} + 6 R^{2} + 12 R +O(R^{0})\\right)\n",
       "  2     $\\frac{1}{120}\\left( R^{5} + 15 R^{4} + 90 R^{3} +O(R^{2})\\right)\n",
       "  3     $\\frac{1}{5040}\\left( R^{7} + 28 R^{6} + 336 R^{5} +O(R^{4})\\right)\n",
       "  4     $\\frac{1}{362880}\\left( R^{9} + 45 R^{8} + 900 R^{7} +O(R^{6})\\right)"
      ]
     },
     "metadata": {},
     "output_type": "display_data"
    }
   ],
   "source": [
    "def Np_leading(p):\n",
    "    kappa = (p+1)*(p+2)/2\n",
    "    return (R^kappa + (p+1)^2*(p+2)/2*R^(kappa-1)\n",
    "            + p*(p+1)^3*(p+2)*(p+3)/8*R^(kappa-2))\n",
    "\n",
    "def Dp_leading(p):\n",
    "    kappa = (p+1)*(p+2)/2\n",
    "    return (R^(kappa-2*p-1) + (p-1)*p*(p+1)/2*R^(kappa-2*p-2)\n",
    "            + p*(p+1)^3*(p-2)*(p-1)/8*R^(kappa-2*p-3))\n",
    "\n",
    "def asymptotic_leading(p):\n",
    "    n = 2*p+1\n",
    "    return (R^n + (n+1)*n/2*R^(n-1)\n",
    "            + n*(n+1)^2*(n-1)/8*R^(n-2))\n",
    "\n",
    "make_table(Np_leading, \n",
    "           (\"$p$\", r\"leading terms of numerator of magnitude\"), \n",
    "           num_rows=5)\n",
    "\n",
    "\n",
    "make_table(Dp_leading, \n",
    "           (\"$p$\", r\"leading terms of denominator of magnitude\"), \n",
    "           num_rows=5)\n",
    "\n",
    "make_table(lambda i: r\"$\\frac{1}{\"+str(factorial(2*i+1))+\"}\\\\left(\"\n",
    "                     +latex(asymptotic_leading(i))\n",
    "                     +\"+O(R^{%s})\\\\right)\"%(2*i-2), \n",
    "           (\"$p$\", r\"leading terms of the asymptotic expansion of magnitude\"), \n",
    "           num_rows=5)"
   ]
  },
  {
   "cell_type": "markdown",
   "metadata": {},
   "source": [
    "# Section 1.5.  The key integral"
   ]
  },
  {
   "cell_type": "markdown",
   "metadata": {},
   "source": [
    "We can give the recursive defintions of $\\tau_i$ and $\\psi_i$ and verify the expressions given for small values of $i$.  We can also plot some examples."
   ]
  },
  {
   "cell_type": "code",
   "execution_count": 6,
   "metadata": {
    "collapsed": false
   },
   "outputs": [
    {
     "data": {
      "text/html": [
       "<div class=\"notruncate\">\n",
       "<table  class=\"table_form\">\n",
       "<tbody>\n",
       "<tr>\n",
       "<th><script type=\"math/tex\">i</script></th>\n",
       "<th><script type=\"math/tex\">\\tau_i(s)</script></th>\n",
       "</tr>\n",
       "<tr class =\"row-a\">\n",
       "<td><script type=\"math/tex\">0</script></td>\n",
       "<td><script type=\"math/tex\">\\cosh\\left(s\\right)</script></td>\n",
       "</tr>\n",
       "<tr class =\"row-b\">\n",
       "<td><script type=\"math/tex\">1</script></td>\n",
       "<td><script type=\"math/tex\">-\\frac{\\sinh\\left(s\\right)}{s}</script></td>\n",
       "</tr>\n",
       "<tr class =\"row-a\">\n",
       "<td><script type=\"math/tex\">2</script></td>\n",
       "<td><script type=\"math/tex\">{\\left(\\frac{\\cosh\\left(s\\right) e^{s}}{s^{2}} - \\frac{e^{s} \\sinh\\left(s\\right)}{s^{3}}\\right)} e^{\\left(-s\\right)}</script></td>\n",
       "</tr>\n",
       "<tr class =\"row-b\">\n",
       "<td><script type=\"math/tex\">3</script></td>\n",
       "<td><script type=\"math/tex\">-{\\left(\\frac{e^{s} \\sinh\\left(s\\right)}{s^{3}} - \\frac{3 \\, \\cosh\\left(s\\right) e^{s}}{s^{4}} + \\frac{3 \\, e^{s} \\sinh\\left(s\\right)}{s^{5}}\\right)} e^{\\left(-s\\right)}</script></td>\n",
       "</tr>\n",
       "<tr class =\"row-a\">\n",
       "<td><script type=\"math/tex\">4</script></td>\n",
       "<td><script type=\"math/tex\">{\\left(\\frac{\\cosh\\left(s\\right) e^{s}}{s^{4}} - \\frac{6 \\, e^{s} \\sinh\\left(s\\right)}{s^{5}} + \\frac{15 \\, \\cosh\\left(s\\right) e^{s}}{s^{6}} - \\frac{15 \\, e^{s} \\sinh\\left(s\\right)}{s^{7}}\\right)} e^{\\left(-s\\right)}</script></td>\n",
       "</tr>\n",
       "<tr class =\"row-b\">\n",
       "<td><script type=\"math/tex\">5</script></td>\n",
       "<td><script type=\"math/tex\">-{\\left(\\frac{e^{s} \\sinh\\left(s\\right)}{s^{5}} - \\frac{10 \\, \\cosh\\left(s\\right) e^{s}}{s^{6}} + \\frac{45 \\, e^{s} \\sinh\\left(s\\right)}{s^{7}} - \\frac{105 \\, \\cosh\\left(s\\right) e^{s}}{s^{8}} + \\frac{105 \\, e^{s} \\sinh\\left(s\\right)}{s^{9}}\\right)} e^{\\left(-s\\right)}</script></td>\n",
       "</tr>\n",
       "<tr class =\"row-a\">\n",
       "<td><script type=\"math/tex\">6</script></td>\n",
       "<td><script type=\"math/tex\">{\\left(\\frac{\\cosh\\left(s\\right) e^{s}}{s^{6}} - \\frac{15 \\, e^{s} \\sinh\\left(s\\right)}{s^{7}} + \\frac{105 \\, \\cosh\\left(s\\right) e^{s}}{s^{8}} - \\frac{420 \\, e^{s} \\sinh\\left(s\\right)}{s^{9}} + \\frac{945 \\, \\cosh\\left(s\\right) e^{s}}{s^{10}} - \\frac{945 \\, e^{s} \\sinh\\left(s\\right)}{s^{11}}\\right)} e^{\\left(-s\\right)}</script></td>\n",
       "</tr>\n",
       "<tr class =\"row-b\">\n",
       "<td><script type=\"math/tex\">7</script></td>\n",
       "<td><script type=\"math/tex\">-{\\left(\\frac{e^{s} \\sinh\\left(s\\right)}{s^{7}} - \\frac{21 \\, \\cosh\\left(s\\right) e^{s}}{s^{8}} + \\frac{210 \\, e^{s} \\sinh\\left(s\\right)}{s^{9}} - \\frac{1260 \\, \\cosh\\left(s\\right) e^{s}}{s^{10}} + \\frac{4725 \\, e^{s} \\sinh\\left(s\\right)}{s^{11}} - \\frac{10395 \\, \\cosh\\left(s\\right) e^{s}}{s^{12}} + \\frac{10395 \\, e^{s} \\sinh\\left(s\\right)}{s^{13}}\\right)} e^{\\left(-s\\right)}</script></td>\n",
       "</tr>\n",
       "</tbody>\n",
       "</table>\n",
       "</div>"
      ],
      "text/plain": [
       "  $i$   $\\tau_i(s)$\n",
       "+-----+------------------------------------------------------------------------------------------------------------------------------------------------------------------------+\n",
       "  0     cosh(s)\n",
       "  1     -sinh(s)/s\n",
       "  2     (cosh(s)*e^s/s^2 - e^s*sinh(s)/s^3)*e^(-s)\n",
       "  3     -(e^s*sinh(s)/s^3 - 3*cosh(s)*e^s/s^4 + 3*e^s*sinh(s)/s^5)*e^(-s)\n",
       "  4     (cosh(s)*e^s/s^4 - 6*e^s*sinh(s)/s^5 + 15*cosh(s)*e^s/s^6 - 15*e^s*sinh(s)/s^7)*e^(-s)\n",
       "  5     -(e^s*sinh(s)/s^5 - 10*cosh(s)*e^s/s^6 + 45*e^s*sinh(s)/s^7 - 105*cosh(s)*e^s/s^8 + 105*e^s*sinh(s)/s^9)*e^(-s)\n",
       "  6     (cosh(s)*e^s/s^6 - 15*e^s*sinh(s)/s^7 + 105*cosh(s)*e^s/s^8 - 420*e^s*sinh(s)/s^9 + 945*cosh(s)*e^s/s^10 - 945*e^s*sinh(s)/s^11)*e^(-s)\n",
       "  7     -(e^s*sinh(s)/s^7 - 21*cosh(s)*e^s/s^8 + 210*e^s*sinh(s)/s^9 - 1260*cosh(s)*e^s/s^10 + 4725*e^s*sinh(s)/s^11 - 10395*cosh(s)*e^s/s^12 + 10395*e^s*sinh(s)/s^13)*e^(-s)"
      ]
     },
     "metadata": {},
     "output_type": "display_data"
    },
    {
     "data": {
      "image/png": "[encoded data removed]",
      "text/plain": [
       "Graphics object consisting of 5 graphics primitives"
      ]
     },
     "execution_count": 6,
     "metadata": {},
     "output_type": "execute_result"
    }
   ],
   "source": [
    "s = var('s')\n",
    "\n",
    "memo_tau = {0: cosh(s)}\n",
    "\n",
    "def tau(i):\n",
    "    if i not in memo_tau:\n",
    "        memo_tau[i] = ((-1/s * diff(tau(i-1), s)*exp(s)).expand())*exp(-s)\n",
    "    return memo_tau[i]\n",
    "\n",
    "make_table(tau, \"$\\\\tau_i(s)$\")\n",
    "\n",
    "plot([tau(i) for i in range(5)], (s, 0, 3), ymax=10)"
   ]
  },
  {
   "cell_type": "code",
   "execution_count": 7,
   "metadata": {
    "collapsed": false
   },
   "outputs": [
    {
     "data": {
      "text/html": [
       "<div class=\"notruncate\">\n",
       "<table  class=\"table_form\">\n",
       "<tbody>\n",
       "<tr>\n",
       "<th><script type=\"math/tex\">i</script></th>\n",
       "<th><script type=\"math/tex\">\\psi_i(R)</script></th>\n",
       "</tr>\n",
       "<tr class =\"row-a\">\n",
       "<td><script type=\"math/tex\">0</script></td>\n",
       "<td><script type=\"math/tex\">e^{\\left(-R\\right)}</script></td>\n",
       "</tr>\n",
       "<tr class =\"row-b\">\n",
       "<td><script type=\"math/tex\">1</script></td>\n",
       "<td><script type=\"math/tex\">\\frac{e^{\\left(-R\\right)}}{R}</script></td>\n",
       "</tr>\n",
       "<tr class =\"row-a\">\n",
       "<td><script type=\"math/tex\">2</script></td>\n",
       "<td><script type=\"math/tex\">\\frac{e^{\\left(-R\\right)}}{R^{2}} + \\frac{e^{\\left(-R\\right)}}{R^{3}}</script></td>\n",
       "</tr>\n",
       "<tr class =\"row-b\">\n",
       "<td><script type=\"math/tex\">3</script></td>\n",
       "<td><script type=\"math/tex\">\\frac{e^{\\left(-R\\right)}}{R^{3}} + \\frac{3 \\, e^{\\left(-R\\right)}}{R^{4}} + \\frac{3 \\, e^{\\left(-R\\right)}}{R^{5}}</script></td>\n",
       "</tr>\n",
       "<tr class =\"row-a\">\n",
       "<td><script type=\"math/tex\">4</script></td>\n",
       "<td><script type=\"math/tex\">\\frac{e^{\\left(-R\\right)}}{R^{4}} + \\frac{6 \\, e^{\\left(-R\\right)}}{R^{5}} + \\frac{15 \\, e^{\\left(-R\\right)}}{R^{6}} + \\frac{15 \\, e^{\\left(-R\\right)}}{R^{7}}</script></td>\n",
       "</tr>\n",
       "<tr class =\"row-b\">\n",
       "<td><script type=\"math/tex\">5</script></td>\n",
       "<td><script type=\"math/tex\">\\frac{e^{\\left(-R\\right)}}{R^{5}} + \\frac{10 \\, e^{\\left(-R\\right)}}{R^{6}} + \\frac{45 \\, e^{\\left(-R\\right)}}{R^{7}} + \\frac{105 \\, e^{\\left(-R\\right)}}{R^{8}} + \\frac{105 \\, e^{\\left(-R\\right)}}{R^{9}}</script></td>\n",
       "</tr>\n",
       "<tr class =\"row-a\">\n",
       "<td><script type=\"math/tex\">6</script></td>\n",
       "<td><script type=\"math/tex\">\\frac{e^{\\left(-R\\right)}}{R^{6}} + \\frac{15 \\, e^{\\left(-R\\right)}}{R^{7}} + \\frac{105 \\, e^{\\left(-R\\right)}}{R^{8}} + \\frac{420 \\, e^{\\left(-R\\right)}}{R^{9}} + \\frac{945 \\, e^{\\left(-R\\right)}}{R^{10}} + \\frac{945 \\, e^{\\left(-R\\right)}}{R^{11}}</script></td>\n",
       "</tr>\n",
       "<tr class =\"row-b\">\n",
       "<td><script type=\"math/tex\">7</script></td>\n",
       "<td><script type=\"math/tex\">\\frac{e^{\\left(-R\\right)}}{R^{7}} + \\frac{21 \\, e^{\\left(-R\\right)}}{R^{8}} + \\frac{210 \\, e^{\\left(-R\\right)}}{R^{9}} + \\frac{1260 \\, e^{\\left(-R\\right)}}{R^{10}} + \\frac{4725 \\, e^{\\left(-R\\right)}}{R^{11}} + \\frac{10395 \\, e^{\\left(-R\\right)}}{R^{12}} + \\frac{10395 \\, e^{\\left(-R\\right)}}{R^{13}}</script></td>\n",
       "</tr>\n",
       "</tbody>\n",
       "</table>\n",
       "</div>"
      ],
      "text/plain": [
       "  $i$   $\\psi_i(R)$\n",
       "+-----+---------------------------------------------------------------------------------------------------------------------------+\n",
       "  0     e^(-R)\n",
       "  1     e^(-R)/R\n",
       "  2     e^(-R)/R^2 + e^(-R)/R^3\n",
       "  3     e^(-R)/R^3 + 3*e^(-R)/R^4 + 3*e^(-R)/R^5\n",
       "  4     e^(-R)/R^4 + 6*e^(-R)/R^5 + 15*e^(-R)/R^6 + 15*e^(-R)/R^7\n",
       "  5     e^(-R)/R^5 + 10*e^(-R)/R^6 + 45*e^(-R)/R^7 + 105*e^(-R)/R^8 + 105*e^(-R)/R^9\n",
       "  6     e^(-R)/R^6 + 15*e^(-R)/R^7 + 105*e^(-R)/R^8 + 420*e^(-R)/R^9 + 945*e^(-R)/R^10 + 945*e^(-R)/R^11\n",
       "  7     e^(-R)/R^7 + 21*e^(-R)/R^8 + 210*e^(-R)/R^9 + 1260*e^(-R)/R^10 + 4725*e^(-R)/R^11 + 10395*e^(-R)/R^12 + 10395*e^(-R)/R^13"
      ]
     },
     "metadata": {},
     "output_type": "display_data"
    },
    {
     "data": {
      "image/png": "[encoded data removed]",
      "text/plain": [
       "Graphics object consisting of 5 graphics primitives"
      ]
     },
     "execution_count": 7,
     "metadata": {},
     "output_type": "execute_result"
    }
   ],
   "source": [
    "s = var('s')\n",
    "\n",
    "memo_psi = {0: exp(-R)}\n",
    "\n",
    "def psi(i):\n",
    "    if i not in memo_psi:\n",
    "        memo_psi[i] = (-1/R * diff(psi(i-1), R)).expand()\n",
    "    return memo_psi[i]\n",
    "\n",
    "make_table(psi, r\"$\\psi_i(R)$\")\n",
    "\n",
    "plot([psi(i) for i in range(5)], (R, 0, 3), ymax=10)"
   ]
  },
  {
   "cell_type": "markdown",
   "metadata": {},
   "source": [
    "# Section 1.8. An example"
   ]
  },
  {
   "cell_type": "markdown",
   "metadata": {},
   "source": [
    "We can do the calculation in the example."
   ]
  },
  {
   "cell_type": "code",
   "execution_count": 8,
   "metadata": {
    "collapsed": false
   },
   "outputs": [
    {
     "data": {
      "text/html": [
       "The matrix is"
      ],
      "text/plain": [
       "The matrix is"
      ]
     },
     "metadata": {},
     "output_type": "display_data"
    },
    {
     "data": {
      "text/html": [
       "<script type=\"math/tex\">\\left(\\begin{array}{rrr} R^{2} + R & -R^{2} - 3R - 3 & \\frac{R^{3} + 5R^{2} + 12R + 12}{R} \\\\ R^{3} + 3R^{2} + 3R & -R^{3} - 4R^{2} - 9R - 9 & \\frac{R^{4} + 5R^{3} + 17R^{2} + 36R + 36}{R} \\\\ R^{4} + 6R^{3} + 15R^{2} + 15R & -R^{4} - 6R^{3} - 21R^{2} - 45R - 45 & \\frac{R^{5} + 6R^{4} + 27R^{3} + 87R^{2} + 180R + 180}{R} \\end{array}\\right)</script>"
      ],
      "text/plain": [
       "<script type=\"math/tex\">\\left(\\begin{array}{rrr} R^{2} + R & -R^{2} - 3R - 3 & \\frac{R^{3} + 5R^{2} + 12R + 12}{R} \\\\ R^{3} + 3R^{2} + 3R & -R^{3} - 4R^{2} - 9R - 9 & \\frac{R^{4} + 5R^{3} + 17R^{2} + 36R + 36}{R} \\\\ R^{4} + 6R^{3} + 15R^{2} + 15R & -R^{4} - 6R^{3} - 21R^{2} - 45R - 45 & \\frac{R^{5} + 6R^{4} + 27R^{3} + 87R^{2} + 180R + 180}{R} \\end{array}\\right)</script>"
      ]
     },
     "metadata": {},
     "output_type": "display_data"
    },
    {
     "name": "stdout",
     "output_type": "stream",
     "text": [
      " \n"
     ]
    }
   ],
   "source": [
    "F = FractionField(S)\n",
    "\n",
    "def delta_p(f):\n",
    "    return ((exp(R)*R^(2*p)*diff(f*exp(-R)*R^(-2*p), R))\n",
    "            .expand().simplify().factor())\n",
    "p = 2\n",
    "\n",
    "M = matrix(F, [[(nest(delta_p, i, chi(p+j))) \n",
    "                for i in range(p+1)] for j in range(p+1)])\n",
    "print html(\"The matrix is\"), html(M)"
   ]
  },
  {
   "cell_type": "code",
   "execution_count": 9,
   "metadata": {
    "collapsed": false
   },
   "outputs": [
    {
     "data": {
      "text/html": [
       "The right hand side vector is"
      ],
      "text/plain": [
       "The right hand side vector is"
      ]
     },
     "metadata": {},
     "output_type": "display_data"
    },
    {
     "data": {
      "text/html": [
       "<script type=\"math/tex\">\\left(\\begin{array}{r} R^{2} + 3R + 3 \\\\ R^{3} + 6R^{2} + 15R + 15 \\\\ R^{4} + 10R^{3} + 45R^{2} + 105R + 105 \\end{array}\\right)</script>"
      ],
      "text/plain": [
       "<script type=\"math/tex\">\\left(\\begin{array}{r} R^{2} + 3R + 3 \\\\ R^{3} + 6R^{2} + 15R + 15 \\\\ R^{4} + 10R^{3} + 45R^{2} + 105R + 105 \\end{array}\\right)</script>"
      ]
     },
     "metadata": {},
     "output_type": "display_data"
    },
    {
     "name": "stdout",
     "output_type": "stream",
     "text": [
      " \n"
     ]
    }
   ],
   "source": [
    "b = vector(F, [chi(p+1+j)/R for j in range(p+1)])\n",
    "print html(\"The right hand side vector is\"), html(matrix(b).transpose())"
   ]
  },
  {
   "cell_type": "code",
   "execution_count": 10,
   "metadata": {
    "collapsed": false
   },
   "outputs": [
    {
     "data": {
      "text/html": [
       "<html><script type=\"math/tex; mode=display\">\\newcommand{\\Bold}[1]{\\mathbf{#1}}\\beta(R) = \\left(\\begin{array}{r}\n",
       "\\frac{3R^{5} + 27R^{4} + 105R^{3} + 216R^{2} + 216R + 72}{R^{5} + 3R^{4}} \\\\\n",
       "\\frac{3R^{4} + 29R^{3} + 108R^{2} + 180R + 120}{R^{4} + 3R^{3}} \\\\\n",
       "\\frac{R^{3} + 9R^{2} + 27R + 24}{R^{3} + 3R^{2}}\n",
       "\\end{array}\\right)</script></html>"
      ],
      "text/plain": [
       "\\beta(R) = [(3*R^5 + 27*R^4 + 105*R^3 + 216*R^2 + 216*R + 72)/(R^5 + 3*R^4)]\n",
       "[         (3*R^4 + 29*R^3 + 108*R^2 + 180*R + 120)/(R^4 + 3*R^3)]\n",
       "[                        (R^3 + 9*R^2 + 27*R + 24)/(R^3 + 3*R^2)]"
      ]
     },
     "metadata": {},
     "output_type": "display_data"
    }
   ],
   "source": [
    "beta = M.solve_right(b)\n",
    "show(LatexExpr(r\"\\beta(R) =\"), matrix(beta).transpose())"
   ]
  },
  {
   "cell_type": "code",
   "execution_count": 11,
   "metadata": {
    "collapsed": false,
    "scrolled": true
   },
   "outputs": [
    {
     "data": {
      "text/html": [
       "<html><script type=\"math/tex; mode=display\">\\newcommand{\\Bold}[1]{\\mathbf{#1}}\\left|B^5_R\\right|= \\frac{1}{120} \\frac{R^{6} + 18R^{5} + 135R^{4} + 525R^{3} + 1080R^{2} + 1080R + 360}{R + 3}</script></html>"
      ],
      "text/plain": [
       "\\left|B^5_R\\right|= 1/120 (R^6 + 18*R^5 + 135*R^4 + 525*R^3 + 1080*R^2 + 1080*R + 360)/(R + 3)"
      ]
     },
     "metadata": {},
     "output_type": "display_data"
    }
   ],
   "source": [
    "n = 2*p +1\n",
    "n_factorial_magnitude = (R^n + n*beta[0]*R^(n-1))\n",
    "\n",
    "show(LatexExpr(\"\\left|B^%s_R\"%(2*p+1)+r\"\\right|=\"), \n",
    "     1/n.factorial(),\n",
    "     (n_factorial_magnitude.numerator()/(n_factorial_magnitude.denominator())))"
   ]
  },
  {
   "cell_type": "markdown",
   "metadata": {},
   "source": [
    "# Section 1.11. Further observations about the magnitude of odd balls"
   ]
  },
  {
   "cell_type": "markdown",
   "metadata": {},
   "source": [
    "The numerator and denominator of the magnitude of an odd ball look like they are log-concave polynomials, so the logarithms of the coefficients form a concave sequence.  We can test this numerically by ploting the logarithms of the coefficients of some example.  A polynomial $\\sum_i a_i R^i$ is log-concave if $\\log(a_i^2/a_{i-1}a_{i+1})\\ge 0$ for all $i$."
   ]
  },
  {
   "cell_type": "code",
   "execution_count": 12,
   "metadata": {
    "collapsed": false
   },
   "outputs": [
    {
     "data": {
      "text/html": [
       "<script type=\"math/tex\">p = 15</script>:"
      ],
      "text/plain": [
       "<script type=\"math/tex\">p = 15</script>:"
      ]
     },
     "metadata": {},
     "output_type": "display_data"
    },
    {
     "name": "stdout",
     "output_type": "stream",
     "text": [
      "\n"
     ]
    },
    {
     "data": {
      "text/html": [
       "<h3>Numerator.</h3>"
      ],
      "text/plain": [
       "<h3>Numerator.</h3>"
      ]
     },
     "metadata": {},
     "output_type": "display_data"
    },
    {
     "name": "stdout",
     "output_type": "stream",
     "text": [
      "\n"
     ]
    },
    {
     "data": {
      "text/html": [
       "Plot of <script type=\"math/tex\">\\log_{10}(\\textrm{coeffs})</script> of <script type=\"math/tex\">N_{15}(R)</script>"
      ],
      "text/plain": [
       "Plot of <script type=\"math/tex\">\\log_{10}(\\textrm{coeffs})</script> of <script type=\"math/tex\">N_{15}(R)</script>"
      ]
     },
     "metadata": {},
     "output_type": "display_data"
    },
    {
     "name": "stdout",
     "output_type": "stream",
     "text": [
      "\n"
     ]
    },
    {
     "data": {
      "image/png": "[encoded data removed]",
      "text/plain": [
       "Graphics object consisting of 1 graphics primitive"
      ]
     },
     "metadata": {},
     "output_type": "display_data"
    },
    {
     "data": {
      "text/html": [
       "min of <script type=\"math/tex\">\\log(a_i^2/a_{i+1}a_{i-1})</script> = 0.0136287224521965"
      ],
      "text/plain": [
       "min of <script type=\"math/tex\">\\log(a_i^2/a_{i+1}a_{i-1})</script> = 0.0136287224521965"
      ]
     },
     "metadata": {},
     "output_type": "display_data"
    },
    {
     "data": {
      "text/html": [
       "Log concave!"
      ],
      "text/plain": [
       "Log concave!"
      ]
     },
     "metadata": {},
     "output_type": "display_data"
    },
    {
     "name": "stdout",
     "output_type": "stream",
     "text": [
      " "
     ]
    },
    {
     "data": {
      "text/html": [
       "<h3>Denominator.</h3>"
      ],
      "text/plain": [
       "<h3>Denominator.</h3>"
      ]
     },
     "metadata": {},
     "output_type": "display_data"
    },
    {
     "name": "stdout",
     "output_type": "stream",
     "text": [
      " \n"
     ]
    },
    {
     "data": {
      "text/html": [
       "Plot of <script type=\"math/tex\">\\log_{10}(\\textrm{coeffs})</script> of <script type=\"math/tex\">D_{15}(R)</script>"
      ],
      "text/plain": [
       "Plot of <script type=\"math/tex\">\\log_{10}(\\textrm{coeffs})</script> of <script type=\"math/tex\">D_{15}(R)</script>"
      ]
     },
     "metadata": {},
     "output_type": "display_data"
    },
    {
     "name": "stdout",
     "output_type": "stream",
     "text": [
      "\n"
     ]
    },
    {
     "data": {
      "image/png": "[encoded data removed]",
      "text/plain": [
       "Graphics object consisting of 1 graphics primitive"
      ]
     },
     "metadata": {},
     "output_type": "display_data"
    },
    {
     "data": {
      "text/html": [
       "min of <script type=\"math/tex\">\\log(a_i^2/a_{i+1}a_{i-1})</script> = 0.0173158691040527"
      ],
      "text/plain": [
       "min of <script type=\"math/tex\">\\log(a_i^2/a_{i+1}a_{i-1})</script> = 0.0173158691040527"
      ]
     },
     "metadata": {},
     "output_type": "display_data"
    },
    {
     "data": {
      "text/html": [
       "Log concave!"
      ],
      "text/plain": [
       "Log concave!"
      ]
     },
     "metadata": {},
     "output_type": "display_data"
    },
    {
     "name": "stdout",
     "output_type": "stream",
     "text": [
      " \n"
     ]
    }
   ],
   "source": [
    "def log_concave(f, pic=True):\n",
    "    \"\"\"\n",
    "    Take a polynomial f.\n",
    "    If pic=True then plot the base-10 logs of the coefficients.\n",
    "    Decide if the polynomial is log concave or not.\n",
    "    \"\"\"\n",
    "    coeffs = f.coefficients()\n",
    "    log_coeffs = map(lambda x: (log(x, 10)).n(), coeffs)\n",
    "    if pic:\n",
    "        show(list_plot(log_coeffs), figsize=[3, 1.5])\n",
    "    concave =[]\n",
    "    for i in range(1, len(log_coeffs)-1):\n",
    "        concave.append(2*log_coeffs[i] - log_coeffs[i-1] - log_coeffs[i+1])\n",
    "    print html(\"min of $\\log(a_i^2/a_{i+1}a_{i-1})$ = %s\"% min(concave)),\n",
    "    if min(concave) >= 0:\n",
    "        print html(\"Log concave!\"),\n",
    "\n",
    "        \n",
    "def sf(k):\n",
    "    \"Calculate the superfactorial of k.\"\n",
    "    return prod([factorial(i) for i in range(k+1)])\n",
    "\n",
    "p = 15\n",
    "print(html(\"$p = %s$:\"%p))\n",
    "\n",
    "print html(\"<h3>Numerator.</h3>\")\n",
    "numerator_poly = S(hankel_chi(p, 2)/(sf(p)*R^(p+1)))\n",
    "print html(\"Plot of $\\log_{10}(\\\\textrm{coeffs})$ of $N_{%s}(R)\"%p)\n",
    "log_concave(numerator_poly)\n",
    "    \n",
    "print html(\"<h3>Denominator.</h3>\")\n",
    "denominator_poly = S(hankel_chi(p)/(sf(p)*R^(p)))\n",
    "print html(\"Plot of $\\log_{10}(\\\\textrm{coeffs})$ of $D_{%s}(R)\"%p)\n",
    "log_concave(denominator_poly)\n"
   ]
  },
  {
   "cell_type": "markdown",
   "metadata": {},
   "source": [
    "We can also plot the roots of these polynomials.  It looks like the roots all live in the region $\\{z\\mid 3\\pi/4 < \\arg(z)< 5\\pi/4\\}$.  If this were the case this would prove that the polynomials were log-concave."
   ]
  },
  {
   "cell_type": "code",
   "execution_count": 13,
   "metadata": {
    "collapsed": false
   },
   "outputs": [
    {
     "data": {
      "text/html": [
       "<script type=\"math/tex\">p = 15</script>:"
      ],
      "text/plain": [
       "<script type=\"math/tex\">p = 15</script>:"
      ]
     },
     "metadata": {},
     "output_type": "display_data"
    },
    {
     "name": "stdout",
     "output_type": "stream",
     "text": [
      "\n"
     ]
    },
    {
     "data": {
      "text/html": [
       "<h3>Numerator.</h3>"
      ],
      "text/plain": [
       "<h3>Numerator.</h3>"
      ]
     },
     "metadata": {},
     "output_type": "display_data"
    },
    {
     "name": "stdout",
     "output_type": "stream",
     "text": [
      "\n"
     ]
    },
    {
     "data": {
      "text/html": [
       "Plot of roots of <script type=\"math/tex\">N_{15}(R)</script>"
      ],
      "text/plain": [
       "Plot of roots of <script type=\"math/tex\">N_{15}(R)</script>"
      ]
     },
     "metadata": {},
     "output_type": "display_data"
    },
    {
     "name": "stdout",
     "output_type": "stream",
     "text": [
      "\n"
     ]
    },
    {
     "data": {
      "image/png": "[encoded data removed]",
      "text/plain": [
       "Graphics object consisting of 3 graphics primitives"
      ]
     },
     "metadata": {},
     "output_type": "display_data"
    },
    {
     "data": {
      "text/html": [
       "<h3>Denominator.</h3>"
      ],
      "text/plain": [
       "<h3>Denominator.</h3>"
      ]
     },
     "metadata": {},
     "output_type": "display_data"
    },
    {
     "name": "stdout",
     "output_type": "stream",
     "text": [
      "\n"
     ]
    },
    {
     "data": {
      "text/html": [
       "Plot of roots of <script type=\"math/tex\">D_{15}(R)</script>"
      ],
      "text/plain": [
       "Plot of roots of <script type=\"math/tex\">D_{15}(R)</script>"
      ]
     },
     "metadata": {},
     "output_type": "display_data"
    },
    {
     "name": "stdout",
     "output_type": "stream",
     "text": [
      "\n"
     ]
    },
    {
     "data": {
      "image/png": "[encoded data removed]",
      "text/plain": [
       "Graphics object consisting of 3 graphics primitives"
      ]
     },
     "metadata": {},
     "output_type": "display_data"
    }
   ],
   "source": [
    "\n",
    "def plot_roots(poly, accuracy=600):\n",
    "    \"Plot the roots of the polynomial poly with the lines x=y and x=-y.\"\n",
    "    CC = ComplexField(accuracy)\n",
    "    roots = poly.roots(CC)\n",
    "    min_im = min(map(lambda x: x[0].imag(), roots))-2\n",
    "    show(list_plot(map(lambda x: (x[0].real(), x[0].imag()), roots))\n",
    "         + plot(x, xmin=min_im, xmax=0, color=\"grey\")\n",
    "         + plot(-x, xmin=min_im, xmax=0, color=\"grey\"), \n",
    "         aspect_ratio=1, figsize=(2,4)\n",
    "        )\n",
    "       \n",
    "        \n",
    "print(html(\"$p = %s$:\"%p))\n",
    "\n",
    "print html(\"<h3>Numerator.</h3>\")\n",
    "print html(\"Plot of roots of $N_{%s}(R)\"%p)\n",
    "plot_roots(numerator_poly)\n",
    "    \n",
    "print html(\"<h3>Denominator.</h3>\")\n",
    "print html(\"Plot of roots of $D_{%s}(R)\"%p)\n",
    "plot_roots(denominator_poly)\n"
   ]
  },
  {
   "cell_type": "markdown",
   "metadata": {},
   "source": [
    "# Section 3.2.  Basic properties of our functions"
   ]
  },
  {
   "cell_type": "markdown",
   "metadata": {},
   "source": [
    "Here we can just verify the formula given in the paper for the Taylor expansion of $\\tau_i(r)$ at $r=0$."
   ]
  },
  {
   "cell_type": "code",
   "execution_count": 14,
   "metadata": {
    "collapsed": false
   },
   "outputs": [
    {
     "data": {
      "text/html": [
       "<div class=\"notruncate\">\n",
       "<table  class=\"table_form\">\n",
       "<tbody>\n",
       "<tr>\n",
       "<th><script type=\"math/tex\">i</script></th>\n",
       "<th>First six terms of Taylor expansion of <script type=\"math/tex\">\\tau_i(r)</script> at <script type=\"math/tex\">r=0</script></th>\n",
       "</tr>\n",
       "<tr class =\"row-a\">\n",
       "<td><script type=\"math/tex\">0</script></td>\n",
       "<td><script type=\"math/tex\">\\frac{1}{720} \\, r^{6} + \\frac{1}{24} \\, r^{4} + \\frac{1}{2} \\, r^{2} + 1</script></td>\n",
       "</tr>\n",
       "<tr class =\"row-b\">\n",
       "<td><script type=\"math/tex\">1</script></td>\n",
       "<td><script type=\"math/tex\">-\\frac{1}{5040} \\, r^{6} - \\frac{1}{120} \\, r^{4} - \\frac{1}{6} \\, r^{2} - 1</script></td>\n",
       "</tr>\n",
       "<tr class =\"row-a\">\n",
       "<td><script type=\"math/tex\">2</script></td>\n",
       "<td><script type=\"math/tex\">\\frac{1}{45360} \\, r^{6} + \\frac{1}{840} \\, r^{4} + \\frac{1}{30} \\, r^{2} + \\frac{1}{3}</script></td>\n",
       "</tr>\n",
       "<tr class =\"row-b\">\n",
       "<td><script type=\"math/tex\">3</script></td>\n",
       "<td><script type=\"math/tex\">-\\frac{1}{498960} \\, r^{6} - \\frac{1}{7560} \\, r^{4} - \\frac{1}{210} \\, r^{2} - \\frac{1}{15}</script></td>\n",
       "</tr>\n",
       "<tr class =\"row-a\">\n",
       "<td><script type=\"math/tex\">4</script></td>\n",
       "<td><script type=\"math/tex\">\\frac{1}{6486480} \\, r^{6} + \\frac{1}{83160} \\, r^{4} + \\frac{1}{1890} \\, r^{2} + \\frac{1}{105}</script></td>\n",
       "</tr>\n",
       "<tr class =\"row-b\">\n",
       "<td><script type=\"math/tex\">5</script></td>\n",
       "<td><script type=\"math/tex\">-\\frac{1}{97297200} \\, r^{6} - \\frac{1}{1081080} \\, r^{4} - \\frac{1}{20790} \\, r^{2} - \\frac{1}{945}</script></td>\n",
       "</tr>\n",
       "<tr class =\"row-a\">\n",
       "<td><script type=\"math/tex\">6</script></td>\n",
       "<td><script type=\"math/tex\">\\frac{1}{1654052400} \\, r^{6} + \\frac{1}{16216200} \\, r^{4} + \\frac{1}{270270} \\, r^{2} + \\frac{1}{10395}</script></td>\n",
       "</tr>\n",
       "<tr class =\"row-b\">\n",
       "<td><script type=\"math/tex\">7</script></td>\n",
       "<td><script type=\"math/tex\">-\\frac{1}{31426995600} \\, r^{6} - \\frac{1}{275675400} \\, r^{4} - \\frac{1}{4054050} \\, r^{2} - \\frac{1}{135135}</script></td>\n",
       "</tr>\n",
       "</tbody>\n",
       "</table>\n",
       "</div>"
      ],
      "text/plain": [
       "  $i$   First six terms of Taylor expansion of $\\tau_i(r)$ at $r=0$\n",
       "+-----+-----------------------------------------------------------------+\n",
       "  0     1/720*r^6 + 1/24*r^4 + 1/2*r^2 + 1\n",
       "  1     -1/5040*r^6 - 1/120*r^4 - 1/6*r^2 - 1\n",
       "  2     1/45360*r^6 + 1/840*r^4 + 1/30*r^2 + 1/3\n",
       "  3     -1/498960*r^6 - 1/7560*r^4 - 1/210*r^2 - 1/15\n",
       "  4     1/6486480*r^6 + 1/83160*r^4 + 1/1890*r^2 + 1/105\n",
       "  5     -1/97297200*r^6 - 1/1081080*r^4 - 1/20790*r^2 - 1/945\n",
       "  6     1/1654052400*r^6 + 1/16216200*r^4 + 1/270270*r^2 + 1/10395\n",
       "  7     -1/31426995600*r^6 - 1/275675400*r^4 - 1/4054050*r^2 - 1/135135"
      ]
     },
     "metadata": {},
     "output_type": "display_data"
    }
   ],
   "source": [
    "r = var('r')\n",
    "make_table(lambda i: taylor(tau(i)(s=r), r, 0, 6), r\"First six terms of Taylor expansion of $\\tau_i(r)$ at $r=0$\")"
   ]
  },
  {
   "cell_type": "code",
   "execution_count": 15,
   "metadata": {
    "collapsed": false
   },
   "outputs": [
    {
     "data": {
      "text/html": [
       "<div class=\"notruncate\">\n",
       "<table  class=\"table_form\">\n",
       "<tbody>\n",
       "<tr>\n",
       "<th><script type=\"math/tex\">i</script></th>\n",
       "<th>First six terms in the formula for the Taylor expansion of <script type=\"math/tex\">\\tau_i(r)</script> at <script type=\"math/tex\">r=0</script></th>\n",
       "</tr>\n",
       "<tr class =\"row-a\">\n",
       "<td><script type=\"math/tex\">0</script></td>\n",
       "<td><script type=\"math/tex\">\\frac{1}{720} \\, r^{6} + \\frac{1}{24} \\, r^{4} + \\frac{1}{2} \\, r^{2} + 1</script></td>\n",
       "</tr>\n",
       "<tr class =\"row-b\">\n",
       "<td><script type=\"math/tex\">1</script></td>\n",
       "<td><script type=\"math/tex\">-\\frac{1}{5040} \\, r^{6} - \\frac{1}{120} \\, r^{4} - \\frac{1}{6} \\, r^{2} - 1</script></td>\n",
       "</tr>\n",
       "<tr class =\"row-a\">\n",
       "<td><script type=\"math/tex\">2</script></td>\n",
       "<td><script type=\"math/tex\">\\frac{1}{45360} \\, r^{6} + \\frac{1}{840} \\, r^{4} + \\frac{1}{30} \\, r^{2} + \\frac{1}{3}</script></td>\n",
       "</tr>\n",
       "<tr class =\"row-b\">\n",
       "<td><script type=\"math/tex\">3</script></td>\n",
       "<td><script type=\"math/tex\">-\\frac{1}{498960} \\, r^{6} - \\frac{1}{7560} \\, r^{4} - \\frac{1}{210} \\, r^{2} - \\frac{1}{15}</script></td>\n",
       "</tr>\n",
       "<tr class =\"row-a\">\n",
       "<td><script type=\"math/tex\">4</script></td>\n",
       "<td><script type=\"math/tex\">\\frac{1}{6486480} \\, r^{6} + \\frac{1}{83160} \\, r^{4} + \\frac{1}{1890} \\, r^{2} + \\frac{1}{105}</script></td>\n",
       "</tr>\n",
       "<tr class =\"row-b\">\n",
       "<td><script type=\"math/tex\">5</script></td>\n",
       "<td><script type=\"math/tex\">-\\frac{1}{97297200} \\, r^{6} - \\frac{1}{1081080} \\, r^{4} - \\frac{1}{20790} \\, r^{2} - \\frac{1}{945}</script></td>\n",
       "</tr>\n",
       "<tr class =\"row-a\">\n",
       "<td><script type=\"math/tex\">6</script></td>\n",
       "<td><script type=\"math/tex\">\\frac{1}{1654052400} \\, r^{6} + \\frac{1}{16216200} \\, r^{4} + \\frac{1}{270270} \\, r^{2} + \\frac{1}{10395}</script></td>\n",
       "</tr>\n",
       "<tr class =\"row-b\">\n",
       "<td><script type=\"math/tex\">7</script></td>\n",
       "<td><script type=\"math/tex\">-\\frac{1}{31426995600} \\, r^{6} - \\frac{1}{275675400} \\, r^{4} - \\frac{1}{4054050} \\, r^{2} - \\frac{1}{135135}</script></td>\n",
       "</tr>\n",
       "</tbody>\n",
       "</table>\n",
       "</div>"
      ],
      "text/plain": [
       "  $i$   First six terms in the formula for the Taylor expansion of $\\tau_i(r)$ at $r=0$\n",
       "+-----+---------------------------------------------------------------------------------+\n",
       "  0     1/720*r^6 + 1/24*r^4 + 1/2*r^2 + 1\n",
       "  1     -1/5040*r^6 - 1/120*r^4 - 1/6*r^2 - 1\n",
       "  2     1/45360*r^6 + 1/840*r^4 + 1/30*r^2 + 1/3\n",
       "  3     -1/498960*r^6 - 1/7560*r^4 - 1/210*r^2 - 1/15\n",
       "  4     1/6486480*r^6 + 1/83160*r^4 + 1/1890*r^2 + 1/105\n",
       "  5     -1/97297200*r^6 - 1/1081080*r^4 - 1/20790*r^2 - 1/945\n",
       "  6     1/1654052400*r^6 + 1/16216200*r^4 + 1/270270*r^2 + 1/10395\n",
       "  7     -1/31426995600*r^6 - 1/275675400*r^4 - 1/4054050*r^2 - 1/135135"
      ]
     },
     "metadata": {},
     "output_type": "display_data"
    }
   ],
   "source": [
    "def tau_taylor(i, top_k):\n",
    "    return (-1)^i*sum([r^(2*k)/((2*k).factorial()*\n",
    "                        prod([2*k+2*j+1 for j in range(i)]))\n",
    "               for k in range(top_k+1)])\n",
    "\n",
    "make_table(lambda i: tau_taylor(i, 3), \n",
    "           r\"First six terms in the formula for the Taylor expansion of $\\tau_i(r)$ at $r=0$\")"
   ]
  },
  {
   "cell_type": "markdown",
   "metadata": {},
   "source": [
    "# Section 6.  Schroeder path formulas"
   ]
  },
  {
   "cell_type": "markdown",
   "metadata": {},
   "source": [
    "We have formulas in the paper for the numerator and denominator polynomials of the magnitude in terms of weightings of collections of Schroeder paths:\n",
    "$$N_p(R):=\\sum_{\\sigma\\in X_{p+1}}W_2(\\sigma, R);\\qquad\n",
    "D_p(R):=\\sum_{\\sigma\\in X_{p-1}}W_0(\\sigma, R).\n",
    "$$\n",
    "Here $X_k$ is the set of $k$-collections of disjoint Schroeder paths.  We can get Sage to enumerate the $k$-collections for small values of the collection size $k$ and calculate the polynomials $N_{k-1}(R)$ and $D_{k+1}(R)$."
   ]
  },
  {
   "cell_type": "code",
   "execution_count": 16,
   "metadata": {
    "collapsed": false,
    "scrolled": false
   },
   "outputs": [
    {
     "data": {
      "text/html": [
       "There are 8 collection of length 2.\n",
       "\n"
      ],
      "text/plain": [
       "There are 8 collection of length 2.\n",
       "\n"
      ]
     },
     "metadata": {},
     "output_type": "display_data"
    },
    {
     "name": "stdout",
     "output_type": "stream",
     "text": [
      "\n"
     ]
    },
    {
     "data": {
      "image/png": "[encoded data removed]",
      "text/plain": [
       "<matplotlib.figure.Figure object at 0x23f52ff10>"
      ]
     },
     "metadata": {},
     "output_type": "display_data"
    },
    {
     "data": {
      "text/html": [
       "<script type=\"math/tex\">W_0 = 60,\\qquad W_2 = 6</script>"
      ],
      "text/plain": [
       "<script type=\"math/tex\">W_0 = 60,\\qquad W_2 = 6</script>"
      ]
     },
     "metadata": {},
     "output_type": "display_data"
    },
    {
     "data": {
      "image/png": "[encoded data removed]",
      "text/plain": [
       "<matplotlib.figure.Figure object at 0x23f601450>"
      ]
     },
     "metadata": {},
     "output_type": "display_data"
    },
    {
     "data": {
      "text/html": [
       "<script type=\"math/tex\">W_0 = 12R,\\qquad W_2 = 2R</script>"
      ],
      "text/plain": [
       "<script type=\"math/tex\">W_0 = 12R,\\qquad W_2 = 2R</script>"
      ]
     },
     "metadata": {},
     "output_type": "display_data"
    },
    {
     "name": "stdout",
     "output_type": "stream",
     "text": [
      " "
     ]
    },
    {
     "data": {
      "image/png": "[encoded data removed]",
      "text/plain": [
       "<matplotlib.figure.Figure object at 0x23f6d33d0>"
      ]
     },
     "metadata": {},
     "output_type": "display_data"
    },
    {
     "data": {
      "text/html": [
       "<script type=\"math/tex\">W_0 = 20R,\\qquad W_2 = 6R</script>"
      ],
      "text/plain": [
       "<script type=\"math/tex\">W_0 = 20R,\\qquad W_2 = 6R</script>"
      ]
     },
     "metadata": {},
     "output_type": "display_data"
    },
    {
     "name": "stdout",
     "output_type": "stream",
     "text": [
      " "
     ]
    },
    {
     "data": {
      "image/png": "[encoded data removed]",
      "text/plain": [
       "<matplotlib.figure.Figure object at 0x23f7a3450>"
      ]
     },
     "metadata": {},
     "output_type": "display_data"
    },
    {
     "data": {
      "text/html": [
       "<script type=\"math/tex\">W_0 = 4R^{2},\\qquad W_2 = 2R^{2}</script>"
      ],
      "text/plain": [
       "<script type=\"math/tex\">W_0 = 4R^{2},\\qquad W_2 = 2R^{2}</script>"
      ]
     },
     "metadata": {},
     "output_type": "display_data"
    },
    {
     "name": "stdout",
     "output_type": "stream",
     "text": [
      " "
     ]
    },
    {
     "data": {
      "image/png": "[encoded data removed]",
      "text/plain": [
       "<matplotlib.figure.Figure object at 0x23f6d3e10>"
      ]
     },
     "metadata": {},
     "output_type": "display_data"
    },
    {
     "data": {
      "text/html": [
       "<script type=\"math/tex\">W_0 = 16R,\\qquad W_2 = 4R</script>"
      ],
      "text/plain": [
       "<script type=\"math/tex\">W_0 = 16R,\\qquad W_2 = 4R</script>"
      ]
     },
     "metadata": {},
     "output_type": "display_data"
    },
    {
     "name": "stdout",
     "output_type": "stream",
     "text": [
      " "
     ]
    },
    {
     "data": {
      "image/png": "[encoded data removed]",
      "text/plain": [
       "<matplotlib.figure.Figure object at 0x23f437850>"
      ]
     },
     "metadata": {},
     "output_type": "display_data"
    },
    {
     "data": {
      "text/html": [
       "<script type=\"math/tex\">W_0 = 4R^{2},\\qquad W_2 = 2R^{2}</script>"
      ],
      "text/plain": [
       "<script type=\"math/tex\">W_0 = 4R^{2},\\qquad W_2 = 2R^{2}</script>"
      ]
     },
     "metadata": {},
     "output_type": "display_data"
    },
    {
     "name": "stdout",
     "output_type": "stream",
     "text": [
      " "
     ]
    },
    {
     "data": {
      "image/png": "[encoded data removed]",
      "text/plain": [
       "<matplotlib.figure.Figure object at 0x23f4c4210>"
      ]
     },
     "metadata": {},
     "output_type": "display_data"
    },
    {
     "data": {
      "text/html": [
       "<script type=\"math/tex\">W_0 = 4R^{2},\\qquad W_2 = 2R^{2}</script>"
      ],
      "text/plain": [
       "<script type=\"math/tex\">W_0 = 4R^{2},\\qquad W_2 = 2R^{2}</script>"
      ]
     },
     "metadata": {},
     "output_type": "display_data"
    },
    {
     "name": "stdout",
     "output_type": "stream",
     "text": [
      " "
     ]
    },
    {
     "data": {
      "image/png": "[encoded data removed]",
      "text/plain": [
       "<matplotlib.figure.Figure object at 0x23f372c90>"
      ]
     },
     "metadata": {},
     "output_type": "display_data"
    },
    {
     "data": {
      "text/html": [
       "<script type=\"math/tex\">W_0 = R^{3},\\qquad W_2 = R^{3}</script>"
      ],
      "text/plain": [
       "<script type=\"math/tex\">W_0 = R^{3},\\qquad W_2 = R^{3}</script>"
      ]
     },
     "metadata": {},
     "output_type": "display_data"
    },
    {
     "name": "stdout",
     "output_type": "stream",
     "text": [
      " "
     ]
    },
    {
     "data": {
      "text/html": [
       "<script type=\"math/tex\">N_1(R) = R^{3} + 6R^{2} + 12R + 6</script>"
      ],
      "text/plain": [
       "<script type=\"math/tex\">N_1(R) = R^{3} + 6R^{2} + 12R + 6</script>"
      ]
     },
     "metadata": {},
     "output_type": "display_data"
    },
    {
     "name": "stdout",
     "output_type": "stream",
     "text": [
      " \n"
     ]
    },
    {
     "data": {
      "text/html": [
       "<script type=\"math/tex\">D_3(R) = R^{3} + 12R^{2} + 48R + 60</script>"
      ],
      "text/plain": [
       "<script type=\"math/tex\">D_3(R) = R^{3} + 12R^{2} + 48R + 60</script>"
      ]
     },
     "metadata": {},
     "output_type": "display_data"
    },
    {
     "name": "stdout",
     "output_type": "stream",
     "text": [
      "\n"
     ]
    }
   ],
   "source": [
    "display_collections = True\n",
    "collection_size = 2  # This is k\n",
    "\n",
    "\n",
    "def continue_s_path(path, under_paths, direction):\n",
    "    \"\"\"\n",
    "    Extend the Schroeder path 'path' according to direction:\n",
    "    +1 gives an ascent\n",
    "    -1 gives a descent\n",
    "    0 gives a flat step.\n",
    "    Then if it hasn't reached the end then extend further\n",
    "    so that it doesn't intersect the Schroeder paths in \n",
    "    'under_paths'.\n",
    "    \"\"\"\n",
    "    \n",
    "    # Make a new copy of path so as not to alter the old one.\n",
    "    path = list(path)\n",
    "    \n",
    "    # Take the top path of the under paths\n",
    "    under_path = under_paths[-1]\n",
    "    \n",
    "    if abs(direction) == 1:\n",
    "        path.append(path[-1]+direction)\n",
    "    else:\n",
    "        # A flat step is treated as two short steps.\n",
    "        path.extend([path[-1],path[-1]])\n",
    "\n",
    "    n = len(under_paths)\n",
    "    x = len(path) - n - 1\n",
    "    y = path[-1]\n",
    "    \n",
    "    # If the path has reached the end of the line then add\n",
    "    # to the collections and stop\n",
    "    if x == n-1:\n",
    "        collections.append(under_paths+[path+[n]])\n",
    "        return\n",
    "    if x == n:\n",
    "        collections.append(under_paths+[path])\n",
    "        return\n",
    "    \n",
    "    # Otherwise see how we can extend the path further.\n",
    "    if x+y < 2*n:\n",
    "        continue_s_path(path, under_paths, +1)\n",
    "        \n",
    "        if x == n-2:\n",
    "            continue_s_path(path, under_paths, 0)\n",
    "\n",
    "        elif under_path[len(path)] < y:\n",
    "            continue_s_path(path, under_paths, 0)\n",
    "\n",
    "    if under_path[len(path)-1] < y-1:\n",
    "            continue_s_path(path, under_paths, -1)\n",
    "    return\n",
    "\n",
    "\n",
    "collections = [[[0]]]\n",
    "for length in range(collection_size):\n",
    "    old_collections = list(collections)\n",
    "    collections = []\n",
    "    for under_paths in old_collections:\n",
    "        continue_s_path([len(under_paths)], under_paths, +1)\n",
    "        if len(under_paths) == 1:\n",
    "            continue_s_path([len(under_paths)], under_paths, 0)\n",
    "        \n",
    "        elif under_paths[-1][1] < len(under_paths):\n",
    "            continue_s_path([len(under_paths)], under_paths, 0)\n",
    "        \n",
    "\n",
    "print html(\"There are %s collection of length %s.\\n\\n\"%(\n",
    "        len(collections), collection_size))\n",
    "\n",
    "\n",
    "import matplotlib.pyplot as plt\n",
    "\n",
    "def show_collection(collection):\n",
    "    \"Plot the collection of Schroeder paths\"\n",
    "    plt.figure(figsize=(1.5, 1.5))\n",
    "    for path in collection:\n",
    "        plt.plot(list(range(-(len(path)-1)/2, (len(path)-1)/2+1)), \n",
    "                 path)\n",
    "    n = len(collection)\n",
    "    for i in range(n):\n",
    "        plt.plot([-i],[i], marker='.', color='b')\n",
    "        plt.plot([i],[i], marker='.', color='b')\n",
    "    plt.axes().set_aspect(\"equal\")\n",
    "    plt.axis([-(n-1/2), n-1/2, -1/2, 2*(n-1)+1/2])\n",
    "    plt.axis('off')\n",
    "    plt.show()\n",
    "    return\n",
    "\n",
    "\n",
    "def weight(collection, offset=1):\n",
    "    \"Calculate the weight of the collection.\"\n",
    "    weight = 1\n",
    "    for path in collection:\n",
    "        j = 0\n",
    "        while j < len(path)-1:\n",
    "            if path[j+1] < path[j]:\n",
    "                # we are descending\n",
    "                weight *= path[j]+offset\n",
    "            elif path[j+1] == path[j]:\n",
    "                weight *= R\n",
    "                j = j + 1\n",
    "            j = j + 1\n",
    "    return weight\n",
    "\n",
    "\n",
    "total_weight_0 = 0\n",
    "total_weight_2 = 0\n",
    "\n",
    "for collection in collections:\n",
    "    weight_0 = weight(collection, 1)\n",
    "    weight_2 = weight(collection, -1)\n",
    "    total_weight_0 += weight_0\n",
    "    total_weight_2 += weight_2\n",
    "    if display_collections:\n",
    "        show_collection(collection)\n",
    "        print(html(\"$W_0 = %s,\\qquad W_2 = %s$\"%(latex(weight_0),latex(weight_2)))),\n",
    "        \n",
    "#show(LatexExpr(\"N_%s(R) = \"%(collection_size-1)),(total_weight_2))\n",
    "#show(LatexExpr(\"D_%s(R) = \"%(collection_size+1)),(total_weight_0))\n",
    "print(html(\"$N_%s(R) = %s\"%(collection_size-1, latex(total_weight_2))))\n",
    "print(html(\"$D_%s(R) = %s\"%(collection_size+1, latex(total_weight_0))))"
   ]
  }
 ],
 "metadata": {
  "kernelspec": {
   "display_name": "SageMath 7.6",
   "language": "",
   "name": "sagemath"
  },
  "language_info": {
   "codemirror_mode": {
    "name": "ipython",
    "version": 2
   },
   "file_extension": ".py",
   "mimetype": "text/x-python",
   "name": "python",
   "nbconvert_exporter": "python",
   "pygments_lexer": "ipython2",
   "version": "2.7.13"
  }
 },
 "nbformat": 4,
 "nbformat_minor": 2
}
