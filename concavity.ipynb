{
 "cells": [
  {
   "cell_type": "markdown",
   "metadata": {},
   "source": [
    "# Log concavity"
   ]
  },
  {
   "cell_type": "markdown",
   "metadata": {},
   "source": [
    "We will let $n$ be a fixed odd integer throughout and define $p$ by $n=2p+1$.  \n",
    "\n",
    "Let $(\\chi_i)_{i=0}^\\infty$ denote the sequence of reverse Bessel polynomials. "
   ]
  },
  {
   "cell_type": "code",
   "execution_count": 53,
   "metadata": {
    "collapsed": false
   },
   "outputs": [
    {
     "data": {
      "text/html": [
       "<div class=\"notruncate\">\n",
       "<table  class=\"table_form\">\n",
       "<tbody>\n",
       "<tr>\n",
       "<th><script type=\"math/tex\">i</script></th>\n",
       "<th>Reverse Bessel polynomial <script type=\"math/tex\">\\chi_{i}(R)</script></th>\n",
       "</tr>\n",
       "<tr class =\"row-a\">\n",
       "<td><script type=\"math/tex\">0</script></td>\n",
       "<td><script type=\"math/tex\">1</script></td>\n",
       "</tr>\n",
       "<tr class =\"row-b\">\n",
       "<td><script type=\"math/tex\">1</script></td>\n",
       "<td><script type=\"math/tex\">R</script></td>\n",
       "</tr>\n",
       "<tr class =\"row-a\">\n",
       "<td><script type=\"math/tex\">2</script></td>\n",
       "<td><script type=\"math/tex\">R^{2} + R</script></td>\n",
       "</tr>\n",
       "<tr class =\"row-b\">\n",
       "<td><script type=\"math/tex\">3</script></td>\n",
       "<td><script type=\"math/tex\">R^{3} + 3 R^{2} + 3 R</script></td>\n",
       "</tr>\n",
       "<tr class =\"row-a\">\n",
       "<td><script type=\"math/tex\">4</script></td>\n",
       "<td><script type=\"math/tex\">R^{4} + 6 R^{3} + 15 R^{2} + 15 R</script></td>\n",
       "</tr>\n",
       "</tbody>\n",
       "</table>\n",
       "</div>"
      ],
      "text/plain": [
       "  $i$   Reverse Bessel polynomial $\\chi_{i}(R)$\n",
       "+-----+-----------------------------------------+\n",
       "  0     1\n",
       "  1     R\n",
       "  2     R^2 + R\n",
       "  3     R^3 + 3*R^2 + 3*R\n",
       "  4     R^4 + 6*R^3 + 15*R^2 + 15*R"
      ]
     },
     "execution_count": 53,
     "metadata": {},
     "output_type": "execute_result"
    }
   ],
   "source": [
    "S.<R> = PolynomialRing(ZZ)\n",
    "\n",
    "def chi(j,r):\n",
    "    if j == 0:\n",
    "        return 1\n",
    "    return sum([factorial(s-1)*r**(2*j-s)/\n",
    "                (2^(s-j)*factorial(s-j)*factorial(2*j-s-1)) \n",
    "                for s in range(j, 2*j)])\n",
    "\n",
    "table_rows = []\n",
    "for i in range(5):\n",
    "    table_rows.append([i, chi(i, R)])\n",
    "table(table_rows,\n",
    "       header_row=[\"$i$\",\"Reverse Bessel polynomial $\\chi_{i}(R)$\"])"
   ]
  },
  {
   "cell_type": "markdown",
   "metadata": {},
   "source": [
    "I have proved the following formula for $|B_R^n|$, the magnitude of the $n$-dimensional ball of radius $R$.\n",
    "$$\n",
    "\\left|B^n_R\\right| \n",
    "=\\frac{\\det[\\chi_{i+j+2}(R)]^{p}_{i,j=0}}\n",
    "{n!\\,R\\det[\\chi_{i+j}(R)]^{p}_{i,j=0}}\n",
    "$$\n",
    "Here are the first few values."
   ]
  },
  {
   "cell_type": "code",
   "execution_count": 54,
   "metadata": {
    "collapsed": false,
    "scrolled": false
   },
   "outputs": [
    {
     "data": {
      "text/html": [
       "<div class=\"notruncate\">\n",
       "<table  class=\"table_form\">\n",
       "<tbody>\n",
       "<tr>\n",
       "<th><script type=\"math/tex\">n</script></th>\n",
       "<th>Magnitude <script type=\"math/tex\">|B_R^n|</script></th>\n",
       "</tr>\n",
       "<tr class =\"row-a\">\n",
       "<td><script type=\"math/tex\">1</script></td>\n",
       "<td><script type=\"math/tex\">R + 1</script></td>\n",
       "</tr>\n",
       "<tr class =\"row-b\">\n",
       "<td><script type=\"math/tex\">3</script></td>\n",
       "<td><script type=\"math/tex\">\\frac{1}{6} \\, R^{3} + R^{2} + 2 \\, R + 1</script></td>\n",
       "</tr>\n",
       "<tr class =\"row-a\">\n",
       "<td><script type=\"math/tex\">5</script></td>\n",
       "<td><script type=\"math/tex\">\\frac{R^{6} + 18 \\, R^{5} + 135 \\, R^{4} + 525 \\, R^{3} + 1080 \\, R^{2} + 1080 \\, R + 360}{120 \\, {\\left(R + 3\\right)}}</script></td>\n",
       "</tr>\n",
       "<tr class =\"row-b\">\n",
       "<td><script type=\"math/tex\">7</script></td>\n",
       "<td><script type=\"math/tex\">\\frac{R^{10} + 40 \\, R^{9} + 720 \\, R^{8} + 7620 \\, R^{7} + 52080 \\, R^{6} + 238140 \\, R^{5} + 730800 \\, R^{4} + 1467900 \\, R^{3} + 1814400 \\, R^{2} + 1209600 \\, R + 302400}{5040 \\, {\\left(R^{3} + 12 \\, R^{2} + 48 \\, R + 60\\right)}}</script></td>\n",
       "</tr>\n",
       "</tbody>\n",
       "</table>\n",
       "</div>"
      ],
      "text/plain": [
       "  $n$   Magnitude $|B_R^n|$\n",
       "+-----+---------------------------------------------------------------------------------------------------------------------------------------------------------------+\n",
       "  1     R + 1\n",
       "  3     1/6*R^3 + R^2 + 2*R + 1\n",
       "  5     1/120*(R^6 + 18*R^5 + 135*R^4 + 525*R^3 + 1080*R^2 + 1080*R + 360)/(R + 3)\n",
       "  7     1/5040*(R^10 + 40*R^9 + 720*R^8 + 7620*R^7 + 52080*R^6 + 238140*R^5 + 730800*R^4 + 1467900*R^3 + 1814400*R^2 + 1209600*R + 302400)/(R^3 + 12*R^2 + 48*R + 60)"
      ]
     },
     "execution_count": 54,
     "metadata": {},
     "output_type": "execute_result"
    }
   ],
   "source": [
    "def Hankel_det(p, offset=0):\n",
    "    M = [[chi(i+j+offset, R) for i in range(p+1)] for j in range(p+1)]\n",
    "    return matrix(S, M).det()\n",
    "\n",
    "table_rows = []\n",
    "for p in range(0, 4):\n",
    "    numerator = Hankel_det(p, 2)\n",
    "    denominator = Hankel_det(p)*R\n",
    "\n",
    "    table_rows.append((2*p+1,\n",
    "                       1/factorial(2*p+1)*SR(numerator/denominator)))\n",
    "table(table_rows,\n",
    "       header_row=[\"$n$\",\"Magnitude $|B_R^n|$\"])"
   ]
  },
  {
   "cell_type": "markdown",
   "metadata": {},
   "source": [
    "The first thing to note is that both numerator and denominator seem to have positive coefficients, but it is not clear how to prove this.\n",
    "\n",
    "Mark/Moshie conjecture that a Brunn-Minkowski inequality holds for the magnitude.  This holds for certain classes of balls if and only if $|B^n_R|$ is log-convex as a function of $R$, i.e. if $(\\log|B_R^n|)''\\le 0$.  We can do some calculations."
   ]
  },
  {
   "cell_type": "code",
   "execution_count": 55,
   "metadata": {
    "collapsed": false
   },
   "outputs": [
    {
     "data": {
      "text/html": [
       "<div class=\"notruncate\">\n",
       "<table  class=\"table_form\">\n",
       "<tbody>\n",
       "<tr>\n",
       "<th><script type=\"math/tex\">n</script></th>\n",
       "<th>Second logarithmic derivative of magnitude <script type=\"math/tex\">(\\log|B_R^n|)''</script></th>\n",
       "</tr>\n",
       "<tr class =\"row-a\">\n",
       "<td><script type=\"math/tex\">1</script></td>\n",
       "<td><script type=\"math/tex\">-\\frac{1}{{\\left(R + 1\\right)}^{2}}</script></td>\n",
       "</tr>\n",
       "<tr class =\"row-b\">\n",
       "<td><script type=\"math/tex\">3</script></td>\n",
       "<td><script type=\"math/tex\">-\\frac{3 \\, {\\left(R^{3} + 6 \\, R^{2} + 12 \\, R + 12\\right)} {\\left(R + 2\\right)}}{{\\left(R^{3} + 6 \\, R^{2} + 12 \\, R + 6\\right)}^{2}}</script></td>\n",
       "</tr>\n",
       "<tr class =\"row-a\">\n",
       "<td><script type=\"math/tex\">5</script></td>\n",
       "<td><script type=\"math/tex\">-\\frac{5 \\, {\\left(R^{9} + 27 \\, R^{8} + 324 \\, R^{7} + 2277 \\, R^{6} + 10368 \\, R^{5} + 31725 \\, R^{4} + 65205 \\, R^{3} + 87480 \\, R^{2} + 71280 \\, R + 28080\\right)} {\\left(R^{3} + 9 \\, R^{2} + 27 \\, R + 24\\right)}}{{\\left(R^{6} + 18 \\, R^{5} + 135 \\, R^{4} + 525 \\, R^{3} + 1080 \\, R^{2} + 1080 \\, R + 360\\right)}^{2} {\\left(R + 3\\right)}^{2}}</script></td>\n",
       "</tr>\n",
       "</tbody>\n",
       "</table>\n",
       "</div>"
      ],
      "text/plain": [
       "  $n$   Second logarithmic derivative of magnitude $(\\log|B_R^n|)''$\n",
       "+-----+---------------------------------------------------------------------------------------------------------------------------------------------------------------------------------------------------------------+\n",
       "  1     -1/(R + 1)^2\n",
       "  3     -3*(R^3 + 6*R^2 + 12*R + 12)*(R + 2)/(R^3 + 6*R^2 + 12*R + 6)^2\n",
       "  5     -5*(R^9 + 27*R^8 + 324*R^7 + 2277*R^6 + 10368*R^5 + 31725*R^4 + 65205*R^3 + 87480*R^2 + 71280*R + 28080)*(R^3 + 9*R^2 + 27*R + 24)/((R^6 + 18*R^5 + 135*R^4 + 525*R^3 + 1080*R^2 + 1080*R + 360)^2*(R + 3)^2)"
      ]
     },
     "execution_count": 55,
     "metadata": {},
     "output_type": "execute_result"
    }
   ],
   "source": [
    "table_rows = []\n",
    "for p in range(0, 3):\n",
    "    mag = Hankel_det(p, 2)/(Hankel_det(p)*R*factorial(2*p+1))\n",
    "    table_rows.append((2*p+1,  (diff(log(mag), R, 2).factor())))\n",
    "table(table_rows,\n",
    "       header_row=[\"$n$\",\"Second logarithmic derivative of magnitude \"\n",
    "                        \"$(\\log|B_R^n|)''$\"])"
   ]
  },
  {
   "cell_type": "markdown",
   "metadata": {},
   "source": [
    "It seems, and this is true at least up to $n=39$, that the second logarithmic derivative is $-1$ times a ratio of coefficientwise positive polynomials.  If this were true then we could prove a special case of the Brunn-Minkowski inequality for magnitude.\n",
    "\n",
    "Clearly the denominators are recognisable!  This leads to the question \"What is $(\\log\\left|B^n _R\\right| )'$?\"  But we know the answer to that: $\\left|B^n _R\\right|'/\\left|B^n _R\\right|$.  So let's examine the ordinary derivative of the magnitude."
   ]
  },
  {
   "cell_type": "code",
   "execution_count": 59,
   "metadata": {
    "collapsed": false
   },
   "outputs": [
    {
     "data": {
      "text/html": [
       "<div class=\"notruncate\">\n",
       "<table  class=\"table_form\">\n",
       "<tbody>\n",
       "<tr>\n",
       "<th><script type=\"math/tex\">n</script></th>\n",
       "<th>First derivative of mangitude <script type=\"math/tex\">|B_R^n|'</script></th>\n",
       "</tr>\n",
       "<tr class =\"row-a\">\n",
       "<td><script type=\"math/tex\">1</script></td>\n",
       "<td><script type=\"math/tex\">1</script></td>\n",
       "</tr>\n",
       "<tr class =\"row-b\">\n",
       "<td><script type=\"math/tex\">3</script></td>\n",
       "<td><script type=\"math/tex\">\\frac{1}{2} \\, {\\left(R + 2\\right)}^{2}</script></td>\n",
       "</tr>\n",
       "<tr class =\"row-a\">\n",
       "<td><script type=\"math/tex\">5</script></td>\n",
       "<td><script type=\"math/tex\">\\frac{{\\left(R^{3} + 9 \\, R^{2} + 27 \\, R + 24\\right)}^{2}}{24 \\, {\\left(R + 3\\right)}^{2}}</script></td>\n",
       "</tr>\n",
       "<tr class =\"row-b\">\n",
       "<td><script type=\"math/tex\">7</script></td>\n",
       "<td><script type=\"math/tex\">\\frac{{\\left(R^{6} + 24 \\, R^{5} + 240 \\, R^{4} + 1260 \\, R^{3} + 3600 \\, R^{2} + 5220 \\, R + 2880\\right)}^{2}}{720 \\, {\\left(R^{3} + 12 \\, R^{2} + 48 \\, R + 60\\right)}^{2}}</script></td>\n",
       "</tr>\n",
       "</tbody>\n",
       "</table>\n",
       "</div>"
      ],
      "text/plain": [
       "  $n$   First derivative of mangitude $|B_R^n|'$\n",
       "+-----+-----------------------------------------------------------------------------------------------------+\n",
       "  1     1\n",
       "  3     1/2*(R + 2)^2\n",
       "  5     1/24*(R^3 + 9*R^2 + 27*R + 24)^2/(R + 3)^2\n",
       "  7     1/720*(R^6 + 24*R^5 + 240*R^4 + 1260*R^3 + 3600*R^2 + 5220*R + 2880)^2/(R^3 + 12*R^2 + 48*R + 60)^2"
      ]
     },
     "execution_count": 59,
     "metadata": {},
     "output_type": "execute_result"
    }
   ],
   "source": [
    "table_rows = []\n",
    "for p in range(0, 4):\n",
    "    mag = Hankel_det(p, 2)/(Hankel_det(p)*R*factorial(2*p+1))\n",
    "    derivative = diff(mag, R)\n",
    "    num = SR(derivative.numerator().factor())\n",
    "    denom = SR(derivative.denominator().factor())\n",
    "    table_rows.append((2*p+1, num/denom))\n",
    "table(table_rows,\n",
    "       header_row=[\"$n$\",\"First derivative of mangitude $|B_R^n|'$\"])"
   ]
  },
  {
   "cell_type": "markdown",
   "metadata": {},
   "source": [
    "\n",
    "Clearly the denominators are recognisable in terms of the denominators of the magnitude.  The numerators are also recognisable if you know your Hankel determinants!\n",
    "\n",
    "Let's calculate $\\det[\\chi_{i+j+1}(R)]^{p}_{i,j=0}$."
   ]
  },
  {
   "cell_type": "code",
   "execution_count": 63,
   "metadata": {
    "collapsed": false
   },
   "outputs": [
    {
     "data": {
      "text/html": [
       "<div class=\"notruncate\">\n",
       "<table  class=\"table_form\">\n",
       "<tbody>\n",
       "<tr>\n",
       "<th>n</th>\n",
       "<th>First offset Hankel determinant <script type=\"math/tex\">\\det[\\chi_{i+j+1}(R)]^{p}_{i,j=0}</script></th>\n",
       "</tr>\n",
       "<tr class =\"row-a\">\n",
       "<td><script type=\"math/tex\">1</script></td>\n",
       "<td><script type=\"math/tex\">R</script></td>\n",
       "</tr>\n",
       "<tr class =\"row-b\">\n",
       "<td><script type=\"math/tex\">3</script></td>\n",
       "<td><script type=\"math/tex\">(R + 2) \\cdot R^{2}</script></td>\n",
       "</tr>\n",
       "<tr class =\"row-a\">\n",
       "<td><script type=\"math/tex\">5</script></td>\n",
       "<td><script type=\"math/tex\">2 \\cdot R^{3} \\cdot (R^{3} + 9R^{2} + 27R + 24)</script></td>\n",
       "</tr>\n",
       "<tr class =\"row-b\">\n",
       "<td><script type=\"math/tex\">7</script></td>\n",
       "<td><script type=\"math/tex\">3 \\cdot 2^{2} \\cdot R^{4} \\cdot (R^{6} + 24R^{5} + 240R^{4} + 1260R^{3} + 3600R^{2} + 5220R + 2880)</script></td>\n",
       "</tr>\n",
       "</tbody>\n",
       "</table>\n",
       "</div>"
      ],
      "text/plain": [
       "  n   First offset Hankel determinant $\\det[\\chi_{i+j+1}(R)]^{p}_{i,j=0}$\n",
       "+---+--------------------------------------------------------------------------------+\n",
       "  1   R\n",
       "  3   (R + 2) * R^2\n",
       "  5   2 * R^3 * (R^3 + 9*R^2 + 27*R + 24)\n",
       "  7   3 * 2^2 * R^4 * (R^6 + 24*R^5 + 240*R^4 + 1260*R^3 + 3600*R^2 + 5220*R + 2880)"
      ]
     },
     "execution_count": 63,
     "metadata": {},
     "output_type": "execute_result"
    }
   ],
   "source": [
    "table_rows = []\n",
    "for p in range(0, 4):\n",
    "    table_rows.append((2*p+1, Hankel_det(p, 1).factor()))\n",
    "table(table_rows,\n",
    "       header_row=[\"n\",\"First offset Hankel determinant \" \n",
    "                   \"$\\det[\\chi_{i+j+1}(R)]^{p}_{i,j=0}$\"])"
   ]
  },
  {
   "cell_type": "markdown",
   "metadata": {},
   "source": []
  },
  {
   "cell_type": "code",
   "execution_count": 78,
   "metadata": {
    "collapsed": false
   },
   "outputs": [
    {
     "name": "stderr",
     "output_type": "stream",
     "text": [
      "[NbConvertApp] Converting notebook concavity.ipynb to html\n",
      "[NbConvertApp] Writing 272515 bytes to concavity.html\n"
     ]
    }
   ],
   "source": [
    "%%bash\n",
    "jupyter nbconvert --to html  concavity.ipynb"
   ]
  },
  {
   "cell_type": "code",
   "execution_count": null,
   "metadata": {
    "collapsed": false
   },
   "outputs": [],
   "source": []
  },
  {
   "cell_type": "code",
   "execution_count": null,
   "metadata": {
    "collapsed": true
   },
   "outputs": [],
   "source": []
  }
 ],
 "metadata": {
  "kernelspec": {
   "display_name": "SageMath 7.4",
   "language": "",
   "name": "sagemath"
  },
  "language_info": {
   "codemirror_mode": {
    "name": "ipython",
    "version": 2
   },
   "file_extension": ".py",
   "mimetype": "text/x-python",
   "name": "python",
   "nbconvert_exporter": "python",
   "pygments_lexer": "ipython2",
   "version": "2.7.10"
  }
 },
 "nbformat": 4,
 "nbformat_minor": 0
}
