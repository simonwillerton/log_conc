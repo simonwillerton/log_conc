{
 "cells": [
  {
   "cell_type": "markdown",
   "metadata": {},
   "source": [
    "# Observations on some polynomials connected to the magnitude of an odd ball"
   ]
  },
  {
   "cell_type": "markdown",
   "metadata": {},
   "source": [
    "## 1. Positivity"
   ]
  },
  {
   "cell_type": "code",
   "execution_count": 131,
   "metadata": {
    "collapsed": false
   },
   "outputs": [
    {
     "data": {
      "text/html": [
       "\n",
       "<style>div.text_cell_render {color: #000000; font-size: 150%; \n",
       "font-family: Palatino, Serif; line-height: 140%;}</style>\n"
      ],
      "text/plain": [
       "<IPython.core.display.HTML object>"
      ]
     },
     "metadata": {},
     "output_type": "display_data"
    }
   ],
   "source": [
    "from IPython.core.display import display, HTML\n",
    "display(HTML(\"\"\"\n",
    "<style>div.text_cell_render {color: #000000; font-size: 150%; \n",
    "font-family: Palatino, Serif; line-height: 140%;}</style>\n",
    "\"\"\"))"
   ]
  },
  {
   "cell_type": "markdown",
   "metadata": {},
   "source": [
    "We will let $n$ denote an *odd* integer throughout and define $p$ by $n=2p+1$.  \n",
    "\n",
    "Let $(\\chi_i)_{i=0}^\\infty$ denote the sequence of reverse Bessel polynomials. "
   ]
  },
  {
   "cell_type": "code",
   "execution_count": 83,
   "metadata": {
    "collapsed": false
   },
   "outputs": [
    {
     "data": {
      "text/html": [
       "<div class=\"notruncate\">\n",
       "<table  class=\"table_form\">\n",
       "<tbody>\n",
       "<tr>\n",
       "<th><script type=\"math/tex\">i</script></th>\n",
       "<th>Reverse Bessel polynomial <script type=\"math/tex\">\\chi_{i}(R)</script></th>\n",
       "</tr>\n",
       "<tr class =\"row-a\">\n",
       "<td><script type=\"math/tex\">0</script></td>\n",
       "<td><script type=\"math/tex\">1</script></td>\n",
       "</tr>\n",
       "<tr class =\"row-b\">\n",
       "<td><script type=\"math/tex\">1</script></td>\n",
       "<td><script type=\"math/tex\">R</script></td>\n",
       "</tr>\n",
       "<tr class =\"row-a\">\n",
       "<td><script type=\"math/tex\">2</script></td>\n",
       "<td><script type=\"math/tex\">R^{2} + R</script></td>\n",
       "</tr>\n",
       "<tr class =\"row-b\">\n",
       "<td><script type=\"math/tex\">3</script></td>\n",
       "<td><script type=\"math/tex\">R^{3} + 3 R^{2} + 3 R</script></td>\n",
       "</tr>\n",
       "<tr class =\"row-a\">\n",
       "<td><script type=\"math/tex\">4</script></td>\n",
       "<td><script type=\"math/tex\">R^{4} + 6 R^{3} + 15 R^{2} + 15 R</script></td>\n",
       "</tr>\n",
       "<tr class =\"row-b\">\n",
       "<td><script type=\"math/tex\">5</script></td>\n",
       "<td><script type=\"math/tex\">R^{5} + 10 R^{4} + 45 R^{3} + 105 R^{2} + 105 R</script></td>\n",
       "</tr>\n",
       "<tr class =\"row-a\">\n",
       "<td><script type=\"math/tex\">6</script></td>\n",
       "<td><script type=\"math/tex\">R^{6} + 15 R^{5} + 105 R^{4} + 420 R^{3} + 945 R^{2} + 945 R</script></td>\n",
       "</tr>\n",
       "<tr class =\"row-b\">\n",
       "<td><script type=\"math/tex\">7</script></td>\n",
       "<td><script type=\"math/tex\">R^{7} + 21 R^{6} + 210 R^{5} + 1260 R^{4} + 4725 R^{3} + 10395 R^{2} + 10395 R</script></td>\n",
       "</tr>\n",
       "</tbody>\n",
       "</table>\n",
       "</div>"
      ],
      "text/plain": [
       "  $i$   Reverse Bessel polynomial $\\chi_{i}(R)$\n",
       "+-----+--------------------------------------------------------------------+\n",
       "  0     1\n",
       "  1     R\n",
       "  2     R^2 + R\n",
       "  3     R^3 + 3*R^2 + 3*R\n",
       "  4     R^4 + 6*R^3 + 15*R^2 + 15*R\n",
       "  5     R^5 + 10*R^4 + 45*R^3 + 105*R^2 + 105*R\n",
       "  6     R^6 + 15*R^5 + 105*R^4 + 420*R^3 + 945*R^2 + 945*R\n",
       "  7     R^7 + 21*R^6 + 210*R^5 + 1260*R^4 + 4725*R^3 + 10395*R^2 + 10395*R"
      ]
     },
     "execution_count": 83,
     "metadata": {},
     "output_type": "execute_result"
    }
   ],
   "source": [
    "S.<R> = PolynomialRing(ZZ)\n",
    "\n",
    "def chi(j,r):\n",
    "    if j == 0:\n",
    "        return 1\n",
    "    return sum([factorial(s-1)*r**(2*j-s)/\n",
    "                (2^(s-j)*factorial(s-j)*factorial(2*j-s-1)) \n",
    "                for s in range(j, 2*j)])\n",
    "\n",
    "table_rows = []\n",
    "for i in range(8):\n",
    "    table_rows.append([i, chi(i, R)])\n",
    "table(table_rows,\n",
    "       header_row=[\"$i$\",\"Reverse Bessel polynomial $\\chi_{i}(R)$\"])"
   ]
  },
  {
   "cell_type": "markdown",
   "metadata": {},
   "source": [
    "I have proved (?!) the following formula for $|B_R^n|$, the magnitude of the $n$-dimensional ball of radius $R$.\n",
    "\n",
    "**Theorem.**\n",
    "$$\n",
    "\\left|B^n_R\\right| \n",
    "=\\frac{\\det\\left[\\chi_{i+j+2}(R)\\right]^{p}_{i,j=0}}\n",
    "{n!\\,R\\det\\left[\\chi_{i+j}(R)\\right]^{p}_{i,j=0}}\n",
    "$$\n",
    "\n",
    "Here are the first few values."
   ]
  },
  {
   "cell_type": "code",
   "execution_count": 4,
   "metadata": {
    "collapsed": false,
    "scrolled": false
   },
   "outputs": [
    {
     "data": {
      "text/html": [
       "<div class=\"notruncate\">\n",
       "<table  class=\"table_form\">\n",
       "<tbody>\n",
       "<tr>\n",
       "<th><script type=\"math/tex\">n</script></th>\n",
       "<th>Magnitude <script type=\"math/tex\">\\left|B_R^n \\right|</script></th>\n",
       "</tr>\n",
       "<tr class =\"row-a\">\n",
       "<td><script type=\"math/tex\">1</script></td>\n",
       "<td><script type=\"math/tex\">R + 1</script></td>\n",
       "</tr>\n",
       "<tr class =\"row-b\">\n",
       "<td><script type=\"math/tex\">3</script></td>\n",
       "<td><script type=\"math/tex\">\\frac{1}{6} \\, R^{3} + R^{2} + 2 \\, R + 1</script></td>\n",
       "</tr>\n",
       "<tr class =\"row-a\">\n",
       "<td><script type=\"math/tex\">5</script></td>\n",
       "<td><script type=\"math/tex\">\\frac{R^{6} + 18 \\, R^{5} + 135 \\, R^{4} + 525 \\, R^{3} + 1080 \\, R^{2} + 1080 \\, R + 360}{120 \\, {\\left(R + 3\\right)}}</script></td>\n",
       "</tr>\n",
       "<tr class =\"row-b\">\n",
       "<td><script type=\"math/tex\">7</script></td>\n",
       "<td><script type=\"math/tex\">\\frac{R^{10} + 40 \\, R^{9} + 720 \\, R^{8} + 7620 \\, R^{7} + 52080 \\, R^{6} + 238140 \\, R^{5} + 730800 \\, R^{4} + 1467900 \\, R^{3} + 1814400 \\, R^{2} + 1209600 \\, R + 302400}{5040 \\, {\\left(R^{3} + 12 \\, R^{2} + 48 \\, R + 60\\right)}}</script></td>\n",
       "</tr>\n",
       "</tbody>\n",
       "</table>\n",
       "</div>"
      ],
      "text/plain": [
       "  $n$   Magnitude $\\left|B_R^n \\right|$\n",
       "+-----+---------------------------------------------------------------------------------------------------------------------------------------------------------------+\n",
       "  1     R + 1\n",
       "  3     1/6*R^3 + R^2 + 2*R + 1\n",
       "  5     1/120*(R^6 + 18*R^5 + 135*R^4 + 525*R^3 + 1080*R^2 + 1080*R + 360)/(R + 3)\n",
       "  7     1/5040*(R^10 + 40*R^9 + 720*R^8 + 7620*R^7 + 52080*R^6 + 238140*R^5 + 730800*R^4 + 1467900*R^3 + 1814400*R^2 + 1209600*R + 302400)/(R^3 + 12*R^2 + 48*R + 60)"
      ]
     },
     "execution_count": 4,
     "metadata": {},
     "output_type": "execute_result"
    }
   ],
   "source": [
    "def Hankel_det(p, offset=0):\n",
    "    M = [[chi(i+j+offset, R) for i in range(p+1)] for j in range(p+1)]\n",
    "    return matrix(S, M).det()\n",
    "\n",
    "table_rows = []\n",
    "for p in range(0, 4):\n",
    "    numerator = Hankel_det(p, 2)\n",
    "    denominator = Hankel_det(p)*R\n",
    "\n",
    "    table_rows.append((2*p+1,\n",
    "                       1/factorial(2*p+1)*SR(numerator/denominator)))\n",
    "table(table_rows,\n",
    "       header_row=[\"$n$\",r\"Magnitude $\\left|B_R^n \\right|$\"])"
   ]
  },
  {
   "cell_type": "markdown",
   "metadata": {},
   "source": [
    "The first thing to note is that both numerator and denominator seem to have positive coefficients.\n",
    "\n",
    "**Conjecture 0.**\n",
    "The magnitude function $|B^n_R|$ is a ratio of polynomials with postitive coefficients.\n",
    "\n",
    "Mokshay Madiman and Mark Meckes conjecture that a Brunn-Minkowski inequality holds for the magnitude.  This leads to the following.\n",
    "\n",
    "**Conjecture 1.** [Madiman-Meckes] The magnitude function $|B^n_R|$ is log-convex as a function of $R$, i.e.\n",
    "$$\n",
    "\\tfrac{d^2}{dR^2}(\\log|B_R^n|)\\le 0.\n",
    "$$\n",
    "\n",
    "We can do some calculations."
   ]
  },
  {
   "cell_type": "code",
   "execution_count": 5,
   "metadata": {
    "collapsed": false
   },
   "outputs": [
    {
     "data": {
      "text/html": [
       "<div class=\"notruncate\">\n",
       "<table  class=\"table_form\">\n",
       "<tbody>\n",
       "<tr>\n",
       "<th><script type=\"math/tex\">n</script></th>\n",
       "<th>Second logarithmic derivative of magnitude <script type=\"math/tex\">\\frac{d^2}{dR^2}\\biggl(\\log\\bigl|B_R^n\\bigr|\\biggr)</script></th>\n",
       "</tr>\n",
       "<tr class =\"row-a\">\n",
       "<td><script type=\"math/tex\">1</script></td>\n",
       "<td><script type=\"math/tex\">-\\frac{1}{{\\left(R + 1\\right)}^{2}}</script></td>\n",
       "</tr>\n",
       "<tr class =\"row-b\">\n",
       "<td><script type=\"math/tex\">3</script></td>\n",
       "<td><script type=\"math/tex\">-\\frac{3 \\, {\\left(R^{3} + 6 \\, R^{2} + 12 \\, R + 12\\right)} {\\left(R + 2\\right)}}{{\\left(R^{3} + 6 \\, R^{2} + 12 \\, R + 6\\right)}^{2}}</script></td>\n",
       "</tr>\n",
       "<tr class =\"row-a\">\n",
       "<td><script type=\"math/tex\">5</script></td>\n",
       "<td><script type=\"math/tex\">-\\frac{5 \\, {\\left(R^{9} + 27 \\, R^{8} + 324 \\, R^{7} + 2277 \\, R^{6} + 10368 \\, R^{5} + 31725 \\, R^{4} + 65205 \\, R^{3} + 87480 \\, R^{2} + 71280 \\, R + 28080\\right)} {\\left(R^{3} + 9 \\, R^{2} + 27 \\, R + 24\\right)}}{{\\left(R^{6} + 18 \\, R^{5} + 135 \\, R^{4} + 525 \\, R^{3} + 1080 \\, R^{2} + 1080 \\, R + 360\\right)}^{2} {\\left(R + 3\\right)}^{2}}</script></td>\n",
       "</tr>\n",
       "</tbody>\n",
       "</table>\n",
       "</div>"
      ],
      "text/plain": [
       "  $n$   Second logarithmic derivative of magnitude $\\frac{d^2}{dR^2}\\biggl(\\log\\bigl|B_R^n\\bigr|\\biggr)$\n",
       "+-----+---------------------------------------------------------------------------------------------------------------------------------------------------------------------------------------------------------------+\n",
       "  1     -1/(R + 1)^2\n",
       "  3     -3*(R^3 + 6*R^2 + 12*R + 12)*(R + 2)/(R^3 + 6*R^2 + 12*R + 6)^2\n",
       "  5     -5*(R^9 + 27*R^8 + 324*R^7 + 2277*R^6 + 10368*R^5 + 31725*R^4 + 65205*R^3 + 87480*R^2 + 71280*R + 28080)*(R^3 + 9*R^2 + 27*R + 24)/((R^6 + 18*R^5 + 135*R^4 + 525*R^3 + 1080*R^2 + 1080*R + 360)^2*(R + 3)^2)"
      ]
     },
     "execution_count": 5,
     "metadata": {},
     "output_type": "execute_result"
    }
   ],
   "source": [
    "table_rows = []\n",
    "for p in range(0, 3):\n",
    "    mag = Hankel_det(p, 2)/(Hankel_det(p)*R*factorial(2*p+1))\n",
    "    table_rows.append((2*p+1,  (diff(log(mag), R, 2).factor())))\n",
    "table(table_rows,\n",
    "       header_row=[\"$n$\",\"Second logarithmic derivative of magnitude \"\n",
    "                        r\"$\\frac{d^2}{dR^2}\\biggl(\\log\\bigl|B_R^n\\bigr|\\biggr)$\"])"
   ]
  },
  {
   "cell_type": "markdown",
   "metadata": {},
   "source": [
    "It seems, and this is true at least up to $n=39$, that the second logarithmic derivative is $-1$ times a ratio of coefficientwise positive polynomials.  If this were true then we could prove a special case of the Brunn-Minkowski inequality for magnitude.  (See right at the bottom for a much stronger possibility for the coefficients.)\n",
    "\n",
    "The denominators are recognisable from the magnitude.  This leads us to ask whay $\\frac{d}{dR}\\log\\bigl|B^n _R\\bigr|$ is.  But we know the answer to that: $\\frac{d}{dR}\\bigl|B^n _R\\bigr|/\\bigl|B^n _R\\bigr|$.  So let's examine the ordinary derivative of the magnitude."
   ]
  },
  {
   "cell_type": "code",
   "execution_count": 6,
   "metadata": {
    "collapsed": false
   },
   "outputs": [
    {
     "data": {
      "text/html": [
       "<div class=\"notruncate\">\n",
       "<table  class=\"table_form\">\n",
       "<tbody>\n",
       "<tr>\n",
       "<th><script type=\"math/tex\">n</script></th>\n",
       "<th>First derivative of mangitude <script type=\"math/tex\">\\frac{d}{dR}\\bigl|B_R^n\\bigr|</script></th>\n",
       "</tr>\n",
       "<tr class =\"row-a\">\n",
       "<td><script type=\"math/tex\">1</script></td>\n",
       "<td><script type=\"math/tex\">1</script></td>\n",
       "</tr>\n",
       "<tr class =\"row-b\">\n",
       "<td><script type=\"math/tex\">3</script></td>\n",
       "<td><script type=\"math/tex\">\\frac{1}{2} \\, {\\left(R + 2\\right)}^{2}</script></td>\n",
       "</tr>\n",
       "<tr class =\"row-a\">\n",
       "<td><script type=\"math/tex\">5</script></td>\n",
       "<td><script type=\"math/tex\">\\frac{{\\left(R^{3} + 9 \\, R^{2} + 27 \\, R + 24\\right)}^{2}}{24 \\, {\\left(R + 3\\right)}^{2}}</script></td>\n",
       "</tr>\n",
       "<tr class =\"row-b\">\n",
       "<td><script type=\"math/tex\">7</script></td>\n",
       "<td><script type=\"math/tex\">\\frac{{\\left(R^{6} + 24 \\, R^{5} + 240 \\, R^{4} + 1260 \\, R^{3} + 3600 \\, R^{2} + 5220 \\, R + 2880\\right)}^{2}}{720 \\, {\\left(R^{3} + 12 \\, R^{2} + 48 \\, R + 60\\right)}^{2}}</script></td>\n",
       "</tr>\n",
       "<tr class =\"row-a\">\n",
       "<td><script type=\"math/tex\">9</script></td>\n",
       "<td><script type=\"math/tex\">\\frac{{\\left(R^{10} + 50 \\, R^{9} + 1125 \\, R^{8} + 14925 \\, R^{7} + 128625 \\, R^{6} + 748440 \\, R^{5} + 2961000 \\, R^{4} + 7812000 \\, R^{3} + 13041000 \\, R^{2} + 12285000 \\, R + 4838400\\right)}^{2}}{40320 \\, {\\left(R^{6} + 30 \\, R^{5} + 375 \\, R^{4} + 2475 \\, R^{3} + 9000 \\, R^{2} + 16920 \\, R + 12600\\right)}^{2}}</script></td>\n",
       "</tr>\n",
       "</tbody>\n",
       "</table>\n",
       "</div>"
      ],
      "text/plain": [
       "  $n$   First derivative of mangitude $\\frac{d}{dR}\\bigl|B_R^n\\bigr|$\n",
       "+-----+-----------------------------------------------------------------------------------------------------------------------------------------------------------------------------------------------------------------+\n",
       "  1     1\n",
       "  3     1/2*(R + 2)^2\n",
       "  5     1/24*(R^3 + 9*R^2 + 27*R + 24)^2/(R + 3)^2\n",
       "  7     1/720*(R^6 + 24*R^5 + 240*R^4 + 1260*R^3 + 3600*R^2 + 5220*R + 2880)^2/(R^3 + 12*R^2 + 48*R + 60)^2\n",
       "  9     1/40320*(R^10 + 50*R^9 + 1125*R^8 + 14925*R^7 + 128625*R^6 + 748440*R^5 + 2961000*R^4 + 7812000*R^3 + 13041000*R^2 + 12285000*R + 4838400)^2/(R^6 + 30*R^5 + 375*R^4 + 2475*R^3 + 9000*R^2 + 16920*R + 12600)^2"
      ]
     },
     "execution_count": 6,
     "metadata": {},
     "output_type": "execute_result"
    }
   ],
   "source": [
    "table_rows = []\n",
    "for p in range(0, 5):\n",
    "    mag = Hankel_det(p, 2)/(Hankel_det(p)*R*factorial(2*p+1))\n",
    "    derivative = diff(mag, R)\n",
    "    num = SR(derivative.numerator().factor())\n",
    "    denom = SR(derivative.denominator().factor())\n",
    "    table_rows.append((2*p+1, num/denom))\n",
    "table(table_rows,\n",
    "       header_row=[\"$n$\",r\"First derivative of mangitude $\\frac{d}{dR}\\bigl|B_R^n\\bigr|$\"])"
   ]
  },
  {
   "cell_type": "markdown",
   "metadata": {},
   "source": [
    "\n",
    "Clearly the denominators are recognisable in terms of the denominators of the magnitude.  The numerators are also recognisable if you know your Hankel determinants!\n",
    "\n",
    "Let's calculate $\\det[\\chi_{i+j+1}(R)]^{p}_{i,j=0}$."
   ]
  },
  {
   "cell_type": "code",
   "execution_count": 7,
   "metadata": {
    "collapsed": false
   },
   "outputs": [
    {
     "data": {
      "text/html": [
       "<div class=\"notruncate\">\n",
       "<table  class=\"table_form\">\n",
       "<tbody>\n",
       "<tr>\n",
       "<th>n</th>\n",
       "<th>First offset Hankel determinant <script type=\"math/tex\">\\det\\left[\\chi_{i+j+1}(R)\\right]^{p}_{i,j=0}</script></th>\n",
       "</tr>\n",
       "<tr class =\"row-a\">\n",
       "<td><script type=\"math/tex\">1</script></td>\n",
       "<td><script type=\"math/tex\">R</script></td>\n",
       "</tr>\n",
       "<tr class =\"row-b\">\n",
       "<td><script type=\"math/tex\">3</script></td>\n",
       "<td><script type=\"math/tex\">(R + 2) \\cdot R^{2}</script></td>\n",
       "</tr>\n",
       "<tr class =\"row-a\">\n",
       "<td><script type=\"math/tex\">5</script></td>\n",
       "<td><script type=\"math/tex\">2 \\cdot R^{3} \\cdot (R^{3} + 9R^{2} + 27R + 24)</script></td>\n",
       "</tr>\n",
       "<tr class =\"row-b\">\n",
       "<td><script type=\"math/tex\">7</script></td>\n",
       "<td><script type=\"math/tex\">3 \\cdot 2^{2} \\cdot R^{4} \\cdot (R^{6} + 24R^{5} + 240R^{4} + 1260R^{3} + 3600R^{2} + 5220R + 2880)</script></td>\n",
       "</tr>\n",
       "<tr class =\"row-a\">\n",
       "<td><script type=\"math/tex\">9</script></td>\n",
       "<td><script type=\"math/tex\">3^{2} \\cdot 2^{5} \\cdot R^{5} \\cdot (R^{10} + 50R^{9} + 1125R^{8} + 14925R^{7} + 128625R^{6} + 748440R^{5} + 2961000R^{4} + 7812000R^{3} + 13041000R^{2} + 12285000R + 4838400)</script></td>\n",
       "</tr>\n",
       "</tbody>\n",
       "</table>\n",
       "</div>"
      ],
      "text/plain": [
       "  n   First offset Hankel determinant $\\det\\left[\\chi_{i+j+1}(R)\\right]^{p}_{i,j=0}$\n",
       "+---+------------------------------------------------------------------------------------------------------------------------------------------------------+\n",
       "  1   R\n",
       "  3   (R + 2) * R^2\n",
       "  5   2 * R^3 * (R^3 + 9*R^2 + 27*R + 24)\n",
       "  7   3 * 2^2 * R^4 * (R^6 + 24*R^5 + 240*R^4 + 1260*R^3 + 3600*R^2 + 5220*R + 2880)\n",
       "  9   3^2 * 2^5 * R^5 * (R^10 + 50*R^9 + 1125*R^8 + 14925*R^7 + 128625*R^6 + 748440*R^5 + 2961000*R^4 + 7812000*R^3 + 13041000*R^2 + 12285000*R + 4838400)"
      ]
     },
     "execution_count": 7,
     "metadata": {},
     "output_type": "execute_result"
    }
   ],
   "source": [
    "table_rows = []\n",
    "for p in range(0, 5):\n",
    "    table_rows.append((2*p+1, Hankel_det(p, 1).factor()))\n",
    "(table(table_rows,\n",
    "       header_row=[\"n\",\"First offset Hankel determinant \" \n",
    "                   r\"$\\det\\left[\\chi_{i+j+1}(R)\\right]^{p}_{i,j=0}$\"]))"
   ]
  },
  {
   "cell_type": "markdown",
   "metadata": {},
   "source": [
    "These seem to be related to the numerators in the derivative of the magnitue.  Let's write \n",
    "$$\n",
    "H(p, \\alpha) = \\det\\left[\\chi_{i+j+\\alpha}(R)\\right]^{p}_{i,j=0}\n",
    "$$\n",
    "for the shifted Hankel determinant.  A bit more precise computation leads to the following conjecture.\n",
    "\n",
    "**Conjecture 2.**  The derivative of the magnitude can be written in the following way.\n",
    "$$\\frac{d}{dR}\\left(\\frac{H(p, 2)}{(2p+1)!\\;R\\; H(p,0)}\\right)= \\frac{H(p,1)^2}{(2p)!\\;R^2\\;H(p,0)^2}$$\n",
    "\n",
    "We can quickly check that Conjecture 2 holds up to, say, $n=29$ ($p=14$)."
   ]
  },
  {
   "cell_type": "code",
   "execution_count": 63,
   "metadata": {
    "collapsed": false
   },
   "outputs": [
    {
     "name": "stdout",
     "output_type": "stream",
     "text": [
      "Here are ordered pairs (n v) with v being the truth value of Conjecture 2 for n:\n",
      "\n",
      "1 True   \t3 True   \t5 True   \t7 True   \t9 True   \t\n",
      "11 True   \t13 True   \t15 True   \t17 True   \t19 True   \t\n",
      "21 True   \t23 True   \t25 True   \t27 True   \t29 True   \t"
     ]
    }
   ],
   "source": [
    "print \"Here are ordered pairs (n v) with v being the truth value of Conjecture 2 for n:\"\n",
    "for p in range(15):\n",
    "    A = Hankel_det(p, 2)\n",
    "    B = R*Hankel_det(p)\n",
    "    conjecture = diff(A, R)*B - diff(B,R)*A == (2*p+1)*Hankel_det(p,1)^2\n",
    "    if p%5 == 0:\n",
    "        print\n",
    "    print 2*p+1, conjecture, \"  \\t\","
   ]
  },
  {
   "cell_type": "markdown",
   "metadata": {},
   "source": [
    "Conjecture 2 would imply that\n",
    "$$\n",
    "\\tfrac{d}{dR}(\\log|B_R^n|)=\n",
    "\\frac{n\\;H(p,1)^2}{R\\;H(p,0)\\;H(p,1)}\n",
    "$$\n",
    "\n",
    "I have not spotted any conjecture for the second logarithmic derivative as a ratio of products of Hankel determinants.\n",
    "\n",
    "It is definitely looking like the Hankel derivatives are all coefficientwise positive polynomials.  Whilst this would prove Conjecture 0, it wouldn't prove Conjecture 1, but it would certainly provide evidence in that direction.\n",
    "\n",
    "After I saw some related ideas on Hankel determinants in notes from a talk of his, I asked Alan Sokal if he knew anything that could be applied for the reverse Beseel polynomials.  Using unpublished methods of his, he has so far proved the following.\n",
    "\n",
    "**Theorem.** [Sokal]\n",
    "Every minor of the infinite matrix $\\left[ \\chi_{i+j+1}\\right]_{i,j=0}^\\infty$ is a coefficientwise positive polynomial.\n",
    "\n",
    "In particular this shows that $H(p, 1)$ and $H(p,2)$ are coefficientwise positive, but it does not show that $H(p, 0)$ is.\n",
    "\n",
    "Let's now consider a stronger property that Alan Sokal has seen in other polynomial sequences."
   ]
  },
  {
   "cell_type": "markdown",
   "metadata": {},
   "source": [
    "## 2. Log-concavity\n",
    "\n",
    "All of this talk of positive coefficients is fine, but it looks like there is more going on: coefficients of all the polynomials that appear above are log-concave!  This means that for the polynomial $\\sum_i a_i R^i$ we have\n",
    "$$\n",
    "\\log (a_i) \\ge \\tfrac{\\log (a_{i-1}) +\\log (a_{i+1})}{2}.\n",
    "$$\n",
    "Here we are implicitly assuming that the coefficients are non-negative, and we interpret $\\log(0)$ sensibly.  Provided that the terms are positive this is the same as $a_i^2\\ge a_{i-1}a_{i+1}$, of course.\n",
    "\n",
    "**Aside.** *I learnt about log-concave polynomials from a talk in March by Martin Lotz.  He was talking about intrinsic volumes and how they form a log-concave sequence.  As we thought the coefficients in the magnitude had something to do with intrinsic volumes I decided to check the coefficients and was very surprised when all the polynomials I looked at were indeed log-concave.*\n",
    "\n",
    "Log-concavity seems to be a common, yet somewhat mysterious, property of polynomials which crops up in algebra and combinatorics.  Intriguingly the Alexandrov-Fenchel inequality seems to be a useful tool in proving log-concavity.\n",
    "\n",
    "We can show that we have log-concavity for the Hankel determinants with small $p$.  We can do this below for $H(19, 0)$, $H(19, 1)$ and $H(19, 2)$ and for the numerator and denominator of $-\\tfrac{d^2}{dR^2}(\\log|B^{39}_R|)$, and we can illustrate that by plotting the graphs of the log of coefficients."
   ]
  },
  {
   "cell_type": "code",
   "execution_count": 65,
   "metadata": {
    "collapsed": false
   },
   "outputs": [
    {
     "data": {
      "text/html": [
       "log of coeffs of <script type=\"math/tex\">H(19, 0)</script>"
      ],
      "text/plain": [
       "log of coeffs of <script type=\"math/tex\">H(19, 0)</script>"
      ]
     },
     "metadata": {},
     "output_type": "display_data"
    },
    {
     "data": {
      "image/png": "[encoded data removed]",
      "text/plain": [
       "Graphics object consisting of 1 graphics primitive"
      ]
     },
     "metadata": {},
     "output_type": "display_data"
    },
    {
     "data": {
      "text/html": [
       "Concave!"
      ],
      "text/plain": [
       "Concave!"
      ]
     },
     "metadata": {},
     "output_type": "display_data"
    },
    {
     "name": "stdout",
     "output_type": "stream",
     "text": [
      "\n"
     ]
    },
    {
     "data": {
      "text/html": [
       "log of coeffs of <script type=\"math/tex\">H(19, 1)</script>"
      ],
      "text/plain": [
       "log of coeffs of <script type=\"math/tex\">H(19, 1)</script>"
      ]
     },
     "metadata": {},
     "output_type": "display_data"
    },
    {
     "data": {
      "image/png": "[encoded data removed]",
      "text/plain": [
       "Graphics object consisting of 1 graphics primitive"
      ]
     },
     "metadata": {},
     "output_type": "display_data"
    },
    {
     "data": {
      "text/html": [
       "Concave!"
      ],
      "text/plain": [
       "Concave!"
      ]
     },
     "metadata": {},
     "output_type": "display_data"
    },
    {
     "name": "stdout",
     "output_type": "stream",
     "text": [
      "\n"
     ]
    },
    {
     "data": {
      "text/html": [
       "log of coeffs of <script type=\"math/tex\">H(19, 2)</script>"
      ],
      "text/plain": [
       "log of coeffs of <script type=\"math/tex\">H(19, 2)</script>"
      ]
     },
     "metadata": {},
     "output_type": "display_data"
    },
    {
     "data": {
      "image/png": "[encoded data removed]",
      "text/plain": [
       "Graphics object consisting of 1 graphics primitive"
      ]
     },
     "metadata": {},
     "output_type": "display_data"
    },
    {
     "data": {
      "text/html": [
       "Concave!"
      ],
      "text/plain": [
       "Concave!"
      ]
     },
     "metadata": {},
     "output_type": "display_data"
    },
    {
     "name": "stdout",
     "output_type": "stream",
     "text": [
      "\n"
     ]
    },
    {
     "data": {
      "text/html": [
       "log of coeffs of numerator of <script type=\"math/tex\">-\\tfrac{d^2}{dR^2}\\log|B^{39}|</script>"
      ],
      "text/plain": [
       "log of coeffs of numerator of <script type=\"math/tex\">-\\tfrac{d^2}{dR^2}\\log|B^{39}|</script>"
      ]
     },
     "metadata": {},
     "output_type": "display_data"
    },
    {
     "data": {
      "image/png": "[encoded data removed]",
      "text/plain": [
       "Graphics object consisting of 1 graphics primitive"
      ]
     },
     "metadata": {},
     "output_type": "display_data"
    },
    {
     "data": {
      "text/html": [
       "Concave!"
      ],
      "text/plain": [
       "Concave!"
      ]
     },
     "metadata": {},
     "output_type": "display_data"
    },
    {
     "name": "stdout",
     "output_type": "stream",
     "text": [
      "\n"
     ]
    },
    {
     "data": {
      "text/html": [
       "log of coeffs of denominator of <script type=\"math/tex\">-\\frac{d^2}{dR^2}\\log|B^{39}|</script>"
      ],
      "text/plain": [
       "log of coeffs of denominator of <script type=\"math/tex\">-\\frac{d^2}{dR^2}\\log|B^{39}|</script>"
      ]
     },
     "metadata": {},
     "output_type": "display_data"
    },
    {
     "data": {
      "image/png": "[encoded data removed]",
      "text/plain": [
       "Graphics object consisting of 1 graphics primitive"
      ]
     },
     "metadata": {},
     "output_type": "display_data"
    },
    {
     "data": {
      "text/html": [
       "Concave!"
      ],
      "text/plain": [
       "Concave!"
      ]
     },
     "metadata": {},
     "output_type": "display_data"
    },
    {
     "name": "stdout",
     "output_type": "stream",
     "text": [
      "\n"
     ]
    }
   ],
   "source": [
    "p = 19\n",
    "\n",
    "def log_concave(f, pic=True):\n",
    "    log_coeffs = map(lambda x: (log(x)).n(),f.coefficients(R))\n",
    "    if pic:\n",
    "        show(list_plot(log_coeffs), figsize=[4,2])\n",
    "    concave =[]\n",
    "    for i in range(1, len(log_coeffs)-1):\n",
    "        concave.append(2*log_coeffs[i] - log_coeffs[i-1] - log_coeffs[i+1])\n",
    "    #print html(\"min of $\\log(a_i^2/a_{i+1}a_{i-1})$ = %s\"% min(concave))\n",
    "    if min(concave) >= 0:\n",
    "        print html(\"Concave!\")\n",
    "\n",
    "pretty_print(html(\"log of coeffs of $H(%s, 0)$\"%p))\n",
    "H_0 = Hankel_det(p, 0)\n",
    "log_concave(H_0)\n",
    "\n",
    "pretty_print(html(\"log of coeffs of $H(%s, 1)$\"%p))\n",
    "H_1 = Hankel_det(p, 1)\n",
    "log_concave(H_1)\n",
    "\n",
    "pretty_print(html(\"log of coeffs of $H(%s, 2)$\"%p))\n",
    "H_2 = Hankel_det(p, 2)\n",
    "log_concave(H_2)\n",
    "\n",
    "A = H_2\n",
    "B = R * H_0\n",
    "second_log_deriv = ((A * diff(A, R, 2) * B^2 - A^2 * B * diff(B, R, 2) \n",
    "                     - diff(A, R)^2 * B^2 + A^2*diff(B, R)^2)/(A^2*B^2))\n",
    "# = diff(log(H_2/(H_0*R*factorial(2*p+1))), R, 2) \n",
    "pretty_print(html(r\"log of coeffs of numerator of $-\\tfrac{d^2}{dR^2}\\log|B^{%s}|$\"%(2*p+1)))\n",
    "log_concave(-second_log_deriv.numerator())\n",
    "pretty_print(html(r\"log of coeffs of denominator of $-\\frac{d^2}{dR^2}\\log|B^{%s}|$\"%(2*p+1)))\n",
    "log_concave(second_log_deriv.denominator())"
   ]
  },
  {
   "cell_type": "markdown",
   "metadata": {},
   "source": [
    "They are all log-concave polynomials, so that's quite promising.  And leads to the next conjecture.\n",
    "\n",
    "**Conjecture 3.**  The magnitude $|B^n_R|$, its derivative and minus its second logarithmic derivative all have numerator and denominator with log-concave coefficients.\n",
    "\n",
    "Bearing in mind the theorem of Alan Sokal about the positivity of minors of the Hankel matrix, and the fact that there are other polynomial sequences which *appear* to have all Hankel minors being log-concave polynomials, we are led to the following question.\n",
    "\n",
    "**Question.** Is every minor of the infinite matrix $\\left[ \\chi_{i+j}\\right]_{i,j=0}^\\infty$ a log-concave polynomial?\n",
    "\n",
    "Note that the $(1\\times 1)$-minor case of this is asking if each reverse Bessel polynomial is log-concave.  That is not hard to prove.\n",
    "\n",
    "We can try to pick some random minors of a large Hankel matrix."
   ]
  },
  {
   "cell_type": "code",
   "execution_count": 132,
   "metadata": {
    "collapsed": false
   },
   "outputs": [
    {
     "data": {
      "text/html": [
       "<h3>Testing the log-concavity of 4 random 5 x 5 minors of a 150 x 150 Hankel matrix</h4>"
      ],
      "text/plain": [
       "<h3>Testing the log-concavity of 4 random 5 x 5 minors of a 150 x 150 Hankel matrix</h4>"
      ]
     },
     "metadata": {},
     "output_type": "display_data"
    },
    {
     "name": "stdout",
     "output_type": "stream",
     "text": [
      "\n"
     ]
    },
    {
     "data": {
      "image/png": "[encoded data removed]",
      "text/plain": [
       "Graphics object consisting of 1 graphics primitive"
      ]
     },
     "metadata": {},
     "output_type": "display_data"
    },
    {
     "data": {
      "text/html": [
       "Concave!"
      ],
      "text/plain": [
       "Concave!"
      ]
     },
     "metadata": {},
     "output_type": "display_data"
    },
    {
     "name": "stdout",
     "output_type": "stream",
     "text": [
      "\n"
     ]
    },
    {
     "data": {
      "image/png": "[encoded data removed]",
      "text/plain": [
       "Graphics object consisting of 1 graphics primitive"
      ]
     },
     "metadata": {},
     "output_type": "display_data"
    },
    {
     "data": {
      "text/html": [
       "Concave!"
      ],
      "text/plain": [
       "Concave!"
      ]
     },
     "metadata": {},
     "output_type": "display_data"
    },
    {
     "name": "stdout",
     "output_type": "stream",
     "text": [
      "\n"
     ]
    },
    {
     "data": {
      "image/png": "[encoded data removed]",
      "text/plain": [
       "Graphics object consisting of 1 graphics primitive"
      ]
     },
     "metadata": {},
     "output_type": "display_data"
    },
    {
     "data": {
      "text/html": [
       "Concave!"
      ],
      "text/plain": [
       "Concave!"
      ]
     },
     "metadata": {},
     "output_type": "display_data"
    },
    {
     "name": "stdout",
     "output_type": "stream",
     "text": [
      "\n"
     ]
    },
    {
     "data": {
      "image/png": "[encoded data removed]",
      "text/plain": [
       "Graphics object consisting of 1 graphics primitive"
      ]
     },
     "metadata": {},
     "output_type": "display_data"
    },
    {
     "data": {
      "text/html": [
       "Concave!"
      ],
      "text/plain": [
       "Concave!"
      ]
     },
     "metadata": {},
     "output_type": "display_data"
    },
    {
     "name": "stdout",
     "output_type": "stream",
     "text": [
      "\n"
     ]
    }
   ],
   "source": [
    "hankel_size = 150\n",
    "minor_size = 5\n",
    "number_of_trials = 4\n",
    "print(html(\"<h3>Testing the log-concavity of %s random %s x %s minors of a %s x %s Hankel matrix</h4>\"%\n",
    "           (number_of_trials, minor_size, minor_size, hankel_size, hankel_size)))\n",
    "SS = Subsets(range(hankel_size), minor_size)\n",
    "for trial in range(number_of_trials):\n",
    "    I = list(SS.random_element())\n",
    "    J = list(SS.random_element())\n",
    "    I.sort()\n",
    "    J.sort()\n",
    "    P = matrix(S,[[chi(i+j, R) for i in I] for j in J]).det()\n",
    "    # print P\n",
    "    log_concave(P, pic=True)"
   ]
  },
  {
   "cell_type": "markdown",
   "metadata": {},
   "source": [
    "These are all log-concave..."
   ]
  }
 ],
 "metadata": {
  "kernelspec": {
   "display_name": "SageMath 7.4",
   "language": "",
   "name": "sagemath"
  },
  "language_info": {
   "codemirror_mode": {
    "name": "ipython",
    "version": 2
   },
   "file_extension": ".py",
   "mimetype": "text/x-python",
   "name": "python",
   "nbconvert_exporter": "python",
   "pygments_lexer": "ipython2",
   "version": "2.7.10"
  }
 },
 "nbformat": 4,
 "nbformat_minor": 0
}
